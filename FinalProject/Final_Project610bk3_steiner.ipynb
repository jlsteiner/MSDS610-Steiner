{
 "cells": [
  {
   "cell_type": "markdown",
   "id": "65e1dc8c-db99-40e7-af8b-9b2b8c31d10e",
   "metadata": {},
   "source": [
    "<div class=\"alert alert-info\">Chicago Airbnb-Steiner bk3</div><p>\n",
    "You and a group of friends are considering purchasing a property in Chicago that you can use as an investment. You have heard from other people that they have made a lot of money by renting out either a room or an entire unit (apartment or house). \n",
    "    <p>\n",
    "\n",
    "Your friends ask you to analyze data so that they can understand how much you would charge per night based on the type of dwelling you were to purchase."
   ]
  },
  {
   "cell_type": "code",
   "execution_count": 1,
   "id": "dc558e32-aa4e-40a0-a24a-40c53b8ababa",
   "metadata": {
    "tags": []
   },
   "outputs": [],
   "source": [
    "import joblib\n",
    "import pandas as pd\n",
    "import numpy as np\n",
    "import seaborn as sns\n",
    "\n",
    "from sklearn.model_selection import train_test_split\n",
    "\n",
    "from sklearn.tree import DecisionTreeClassifier, plot_tree\n",
    "from sklearn.ensemble import RandomForestClassifier\n",
    "from sklearn.metrics import accuracy_score\n",
    "from sklearn.metrics import accuracy_score, classification_report\n",
    "import matplotlib.pyplot as plt\n",
    "#import the sql package\n",
    "from sqlalchemy import create_engine\n",
    "import psycopg2\n",
    "from sqlalchemy import create_engine, text"
   ]
  },
  {
   "cell_type": "code",
   "execution_count": 2,
   "id": "c0404d66-63a8-4ca2-9b71-c510b4d069dd",
   "metadata": {},
   "outputs": [],
   "source": [
    "import warnings\n",
    "warnings.filterwarnings('ignore')"
   ]
  },
  {
   "cell_type": "code",
   "execution_count": 3,
   "id": "11a3645b-8b24-4fc7-8a01-4e4f5803c52c",
   "metadata": {},
   "outputs": [],
   "source": [
    "df = pd.read_csv('C:/Users/jenni/Documents/MSDS/MSDS610/random.csv')\n",
    "ddf=df"
   ]
  },
  {
   "cell_type": "code",
   "execution_count": 4,
   "id": "acb7bce7-d55c-4a21-a611-9323304c237c",
   "metadata": {
    "tags": []
   },
   "outputs": [],
   "source": [
    "#set up variable for the db\n",
    "host = r'127.0.0.1' # denotes that the db in a local installation\n",
    "db = r'MSDS610' # db for this class\n",
    "user = r'postgres' # using the postgres user because I'm too lazy to create a new one\n",
    "pw = r'BrightBlessings1!' # this is the password established during installation\n",
    "port = r'5432' # default port estabalished during install\n",
    "schema = r'cleaned' # schema "
   ]
  },
  {
   "cell_type": "code",
   "execution_count": 5,
   "id": "3a9a0c0a-2f23-4178-9891-4d493ea72fca",
   "metadata": {
    "tags": []
   },
   "outputs": [],
   "source": [
    "#open the connection\n",
    "db_conn = create_engine(\"postgresql://{}:{}@{}:{}/{}\".format(user, pw, host, port, db))"
   ]
  },
  {
   "cell_type": "markdown",
   "id": "42f47954-fd54-4412-9bdf-5b4e969c0b1b",
   "metadata": {},
   "source": [
    "We are using g the random.csv.  I have drawn that into dataframe df. \n",
    "<br>I have also created and opened the database connection.\n",
    "<br>I created ddf so that the predicition can be added to it\n",
    "\n",
    "<p>As noted in cleaned.dbo.etl_manipulations, all that is being kept are the 5 features below\n",
    "<br>Instead of using get dummies  I'm using replace.  Mostly because I'm not sure that 'flattening' the data is best.\n",
    "<br>I wasn't able to figure out how to bring in the bring in the column names and feed them into the dataframe selection."
   ]
  },
  {
   "cell_type": "code",
   "execution_count": 6,
   "id": "cd257832-404e-4a19-939b-d0573f7e71b9",
   "metadata": {
    "scrolled": true
   },
   "outputs": [
    {
     "name": "stdout",
     "output_type": "stream",
     "text": [
      "<class 'pandas.core.frame.DataFrame'>\n",
      "RangeIndex: 400 entries, 0 to 399\n",
      "Data columns (total 17 columns):\n",
      " #   Column                          Non-Null Count  Dtype  \n",
      "---  ------                          --------------  -----  \n",
      " 0   Unnamed: 0                      400 non-null    int64  \n",
      " 1   id                              400 non-null    int64  \n",
      " 2   name                            400 non-null    object \n",
      " 3   host_id                         400 non-null    int64  \n",
      " 4   host_name                       400 non-null    object \n",
      " 5   neighbourhood_group             0 non-null      float64\n",
      " 6   neighbourhood                   400 non-null    object \n",
      " 7   latitude                        400 non-null    float64\n",
      " 8   longitude                       400 non-null    float64\n",
      " 9   room_type                       400 non-null    object \n",
      " 10  price                           400 non-null    int64  \n",
      " 11  minimum_nights                  400 non-null    int64  \n",
      " 12  number_of_reviews               400 non-null    int64  \n",
      " 13  last_review                     327 non-null    object \n",
      " 14  reviews_per_month               327 non-null    float64\n",
      " 15  calculated_host_listings_count  400 non-null    int64  \n",
      " 16  availability_365                400 non-null    int64  \n",
      "dtypes: float64(4), int64(8), object(5)\n",
      "memory usage: 53.3+ KB\n"
     ]
    }
   ],
   "source": [
    "df.info()"
   ]
  },
  {
   "cell_type": "code",
   "execution_count": 7,
   "id": "b6759509-e669-4f4c-95d0-19b5c5ac73e4",
   "metadata": {},
   "outputs": [
    {
     "name": "stdout",
     "output_type": "stream",
     "text": [
      "<class 'pandas.core.frame.DataFrame'>\n",
      "RangeIndex: 400 entries, 0 to 399\n",
      "Data columns (total 17 columns):\n",
      " #   Column                          Non-Null Count  Dtype  \n",
      "---  ------                          --------------  -----  \n",
      " 0   Unnamed: 0                      400 non-null    int64  \n",
      " 1   id                              400 non-null    int64  \n",
      " 2   name                            400 non-null    object \n",
      " 3   host_id                         400 non-null    int64  \n",
      " 4   host_name                       400 non-null    object \n",
      " 5   neighbourhood_group             0 non-null      float64\n",
      " 6   neighbourhood                   400 non-null    object \n",
      " 7   latitude                        400 non-null    float64\n",
      " 8   longitude                       400 non-null    float64\n",
      " 9   room_type                       400 non-null    object \n",
      " 10  price                           400 non-null    int64  \n",
      " 11  minimum_nights                  400 non-null    int64  \n",
      " 12  number_of_reviews               400 non-null    int64  \n",
      " 13  last_review                     327 non-null    object \n",
      " 14  reviews_per_month               327 non-null    float64\n",
      " 15  calculated_host_listings_count  400 non-null    int64  \n",
      " 16  availability_365                400 non-null    int64  \n",
      "dtypes: float64(4), int64(8), object(5)\n",
      "memory usage: 53.3+ KB\n"
     ]
    }
   ],
   "source": [
    "ddf.info()"
   ]
  },
  {
   "cell_type": "code",
   "execution_count": 8,
   "id": "fabc9f72-8822-4317-b016-c2eff685c7b4",
   "metadata": {},
   "outputs": [],
   "source": [
    "df1=df[[\"id\", \"room_type\",\"price\",\"minimum_nights\",\"availability_365\"]]"
   ]
  },
  {
   "cell_type": "markdown",
   "id": "ae5a1b48-7f45-4abe-96d5-7a9df71cd854",
   "metadata": {},
   "source": [
    "I guessed that the reason for the etl table was so we could connect and use the values to automate the manipulations \n",
    "<br>I was able to figure out how to use a cursor to filter price and min nights.  This should meet the UDF requirement\n",
    "<br>  This part was a bit challenging and I spent a while researching and figuring out why I kept getting errors.  I finally found an article that noted postgres changes table names to lower case.  I had originallyset the table up with mixed case."
   ]
  },
  {
   "cell_type": "code",
   "execution_count": 9,
   "id": "0768c4dd-e708-470b-8fc9-0c6e07e6246c",
   "metadata": {},
   "outputs": [],
   "source": [
    "\n",
    "# forming the connection \n",
    "conn = psycopg2.connect( \n",
    "    database=db, user=user, \n",
    "    password=pw, host=host, port=port,\n",
    "    options='-c search_path=dbo,cleaned'\n",
    ") \n",
    "  \n",
    "\n",
    "# Creating a cursor object using the \n",
    "# cursor() method \n",
    "cursor = conn.cursor() \n",
    "\n",
    "udf_sql =\"SELECT max_value from  etl_manipulations where field_name ='price'\"\n",
    "\n",
    "# executing the sql command \n",
    "cursor.execute(udf_sql) \n",
    "  \n",
    "# fetching one row \n",
    "result = cursor.fetchone() \n",
    "\n",
    "df2 = df1[df1['price'] < result]\n",
    "cursor.close()\n"
   ]
  },
  {
   "cell_type": "code",
   "execution_count": 10,
   "id": "06bd4b4b-c7b4-48fd-9bc9-dabd7ced90af",
   "metadata": {},
   "outputs": [],
   "source": [
    "\n",
    "# Creating a cursor object using the \n",
    "# cursor() method \n",
    "cursor = conn.cursor() \n",
    "\n",
    "sql_udf =\"SELECT max_value from  etl_manipulations where field_name ='minimum_nights'\"\n",
    "\n",
    "# executing the sql command \n",
    "cursor.execute(sql_udf) \n",
    "  \n",
    "# fetching one row \n",
    "result = cursor.fetchone() \n",
    "\n",
    "df2 = df1[df1['minimum_nights'] < result]\n",
    "cursor.close()\n"
   ]
  },
  {
   "cell_type": "markdown",
   "id": "4f5b23f5-99dd-4a3f-921c-3d9c30c29c13",
   "metadata": {},
   "source": [
    "Although I was able to figure out how to pull in the max values for filters, trying to get the calculated fields to work wasn't in my wheelhouse"
   ]
  },
  {
   "cell_type": "code",
   "execution_count": 11,
   "id": "cb0b95d5-3579-4058-9d14-8d8afbb86601",
   "metadata": {},
   "outputs": [],
   "source": [
    "df2['minimum_cost']=df2['minimum_nights']*df2['price']"
   ]
  },
  {
   "cell_type": "code",
   "execution_count": 12,
   "id": "c1979312-fe6b-4850-bfa5-6996b3b7f9db",
   "metadata": {},
   "outputs": [],
   "source": [
    "df2['possible_income']=df2['minimum_cost']*df2['availability_365']"
   ]
  },
  {
   "cell_type": "markdown",
   "id": "df5a3e43-f195-4c5f-b139-9b9b1f402a96",
   "metadata": {},
   "source": [
    "Check the data and load the model"
   ]
  },
  {
   "cell_type": "code",
   "execution_count": 13,
   "id": "4c511449-8ef2-471a-b46d-b50a18449b0c",
   "metadata": {},
   "outputs": [
    {
     "name": "stdout",
     "output_type": "stream",
     "text": [
      "<class 'pandas.core.frame.DataFrame'>\n",
      "Index: 397 entries, 0 to 399\n",
      "Data columns (total 7 columns):\n",
      " #   Column            Non-Null Count  Dtype \n",
      "---  ------            --------------  ----- \n",
      " 0   id                397 non-null    int64 \n",
      " 1   room_type         397 non-null    object\n",
      " 2   price             397 non-null    int64 \n",
      " 3   minimum_nights    397 non-null    int64 \n",
      " 4   availability_365  397 non-null    int64 \n",
      " 5   minimum_cost      397 non-null    int64 \n",
      " 6   possible_income   397 non-null    int64 \n",
      "dtypes: int64(6), object(1)\n",
      "memory usage: 24.8+ KB\n"
     ]
    }
   ],
   "source": [
    "df2.info()"
   ]
  },
  {
   "cell_type": "markdown",
   "id": "a68492cc-1683-4584-8ae7-f2366b3f112a",
   "metadata": {},
   "source": [
    "Loading the x_val, y_val and the model.  "
   ]
  },
  {
   "cell_type": "code",
   "execution_count": 14,
   "id": "1be8e567-9aa2-43c8-836d-bc96904c6e25",
   "metadata": {
    "tags": []
   },
   "outputs": [
    {
     "name": "stdout",
     "output_type": "stream",
     "text": [
      "Model loaded successfully\n"
     ]
    }
   ],
   "source": [
    " # Load the saved model\n",
    "loaded_model = joblib.load('bnb_rf_model.joblib')\n",
    "loaded_x_val = joblib.load('x_val.joblib')\n",
    "loaded_y_val = joblib.load('y_val.joblib')\n",
    "print(\"Model loaded successfully\")\n",
    "\n",
    "\n",
    "# Make predictions on the validation set\n",
    "y_val_pred = loaded_model.predict(loaded_x_val)\n",
    "#gather up names of all the columns\n"
   ]
  },
  {
   "cell_type": "code",
   "execution_count": 15,
   "id": "3914284f-0e95-4479-8d57-c8fa2502ac30",
   "metadata": {},
   "outputs": [
    {
     "data": {
      "text/plain": [
       "0.8554083885209713"
      ]
     },
     "execution_count": 15,
     "metadata": {},
     "output_type": "execute_result"
    }
   ],
   "source": [
    "accuracy_score(loaded_y_val,y_val_pred)"
   ]
  },
  {
   "cell_type": "markdown",
   "id": "ecb87eb7-14c3-4461-9695-cdf9b51e4e0a",
   "metadata": {},
   "source": [
    "The accuracy looks good still for the validation data"
   ]
  },
  {
   "cell_type": "code",
   "execution_count": 16,
   "id": "397b0636-da0a-430d-bc53-cda9183d9a56",
   "metadata": {},
   "outputs": [],
   "source": [
    "X_new = df2.drop('room_type', axis=1) # Adjust as needed"
   ]
  },
  {
   "cell_type": "code",
   "execution_count": 17,
   "id": "2f1ae12b-0e02-4de8-9cd2-4afc6ace5298",
   "metadata": {},
   "outputs": [],
   "source": [
    "predictions = loaded_model.predict(X_new)"
   ]
  },
  {
   "cell_type": "code",
   "execution_count": 18,
   "id": "dc8ffb76-fb88-4300-a8bf-0954ef4996c2",
   "metadata": {},
   "outputs": [
    {
     "name": "stdout",
     "output_type": "stream",
     "text": [
      "Accuracy: 0.47858942065491183\n",
      "Classification Report:\n",
      "                 precision    recall  f1-score   support\n",
      "\n",
      "Entire home/apt       0.47      0.93      0.62        98\n",
      "     Hotel room       1.00      0.20      0.33       100\n",
      "   Private room       0.39      0.65      0.49       100\n",
      "    Shared room       0.93      0.14      0.25        99\n",
      "\n",
      "       accuracy                           0.48       397\n",
      "      macro avg       0.70      0.48      0.42       397\n",
      "   weighted avg       0.70      0.48      0.42       397\n",
      "\n"
     ]
    }
   ],
   "source": [
    "y_new = df2['room_type']\n",
    "    \n",
    "    # Evaluate the model\n",
    "accuracy = accuracy_score(y_new, predictions)\n",
    "report = classification_report(y_new, predictions)\n",
    "    \n",
    "print(f\"Accuracy: {accuracy}\")\n",
    "print(f\"Classification Report:\\n{report}\")"
   ]
  },
  {
   "cell_type": "markdown",
   "id": "7f49ad8e-9ca1-4c9a-95c7-511ae41b1382",
   "metadata": {},
   "source": [
    "If I understand the classification report, the model is best in respect to Entre home/apt"
   ]
  },
  {
   "cell_type": "markdown",
   "id": "1cc0c417-7f52-46e1-abc5-c8f495c89764",
   "metadata": {},
   "source": [
    "\n",
    "Next, save the prediction results.\n",
    "Save the results of prediction to the db.  Then save to csv and concantonate to the original dataset"
   ]
  },
  {
   "cell_type": "code",
   "execution_count": 19,
   "id": "d59e5c31-17f0-4fa3-9c20-d95e6e4e7a50",
   "metadata": {
    "scrolled": true
   },
   "outputs": [],
   "source": [
    "dfa = pd.DataFrame(predictions)\n",
    "\n",
    "dfa.columns = [\"prediction\"]\n",
    "dfa.to_csv(\"prediction_results.csv\")"
   ]
  },
  {
   "cell_type": "code",
   "execution_count": 20,
   "id": "cb3358c2-9647-434b-a7f3-204117ff4667",
   "metadata": {},
   "outputs": [
    {
     "data": {
      "text/plain": [
       "397"
      ]
     },
     "execution_count": 20,
     "metadata": {},
     "output_type": "execute_result"
    }
   ],
   "source": [
    "table_name = r'bnb_pred'\n",
    "schema = r'analytics' # schema we created this week.\n",
    "\n",
    "dfa.to_sql(table_name, con=db_conn, if_exists='replace', index=False, schema=schema, chunksize=1000, method='multi')"
   ]
  },
  {
   "cell_type": "code",
   "execution_count": 21,
   "id": "f91e869f-dbc0-4f7e-8686-7a277177a400",
   "metadata": {},
   "outputs": [],
   "source": [
    "\n",
    "df4 = pd.concat([ddf, dfa], axis=1)"
   ]
  },
  {
   "cell_type": "code",
   "execution_count": 22,
   "id": "47b03f66-4e7c-4435-bab5-1b31feea795d",
   "metadata": {
    "tags": []
   },
   "outputs": [
    {
     "data": {
      "text/plain": [
       "400"
      ]
     },
     "execution_count": 22,
     "metadata": {},
     "output_type": "execute_result"
    }
   ],
   "source": [
    "table_name = r'bnb_predcomb'\n",
    "schema = r'analytics' # schema we created this week.\n",
    "\n",
    "df4.to_sql(table_name, con=db_conn, if_exists='replace', index=False, schema=schema, chunksize=1000, method='multi')"
   ]
  },
  {
   "cell_type": "code",
   "execution_count": 23,
   "id": "6c09c05b-70e1-4922-875b-52f3c6d885ef",
   "metadata": {},
   "outputs": [],
   "source": [
    "df4.to_csv('C:/Users/jenni/Documents/MSDS/MSDS610/bnb_preds.csv')"
   ]
  },
  {
   "cell_type": "markdown",
   "id": "57245f40-56f8-43c2-90cb-f78c06a7e981",
   "metadata": {},
   "source": [
    "<div class=\"alert alert-info\"><b> Summary </b></div><p>"
   ]
  },
  {
   "cell_type": "markdown",
   "id": "bca16c3c-827a-4b93-8134-a845579872ee",
   "metadata": {},
   "source": [
    "The analytical question:  Your friends ask you to analyze data so that they can understand how much you would charge per night based on the type of dwelling you were to purchase.\n",
    "<p>The data set was fairly clean.  The NaN's found were in columns that were not needed for the analysis.  In moving through the EDA portion, it occurred to me that doing a full model was likely a bit of overkill.  <br>\n",
    "The question being asked could have been answered with basic analysis and calculations--i.e. calculate for the average daily cost across all ids, grouped by the type of dwelling and in what neighborhood.  \n",
    "There's several ways that the data could be broken apart to give a one time answer to 'How much should we charge'.  \n",
    "<p> When I reconsidered the question, it also occurred to me that the data will change continuously.  Today it might be 50 per night, tomorrow it could be 100.  This justifies creating a model that will accept new/live data for an ongoing \n",
    "prediction.  I did find the data set to be lacking a bit in detail.  The analysis could have been a great deal more in depth if things like square footage of the rental was included or a neighborhood rating was also included.  That is to say\n",
    "that if a rental is in a 5 star neighborhood, with 4000sq it makes sense that the minimum rental fee would be 4k a week.  Whereas a 400 sf rental in a 1 star neighborhood is definitely not going to command that 4k income.  Just the same\n",
    "there is no indication of times of year on pricing.  Does pricing go up over holidays?  Is there a booking discount for longer stays?</p>\n",
    "<p>This was run twice.  Once with a sample of 25 per room type category and once with 100 per category.  Once basic cleaning was completed, the guideance was entered into the etl_manipulations for use during deployment.  A 3 way split was done before using a Random \n",
    "Tree Classifier for the model.  The validation data was saved off to csv and used when the model was loaded (book 3) to verify.  The test/training runs (for both 25 and 100 random) showed promising accuracy results. \n",
    "However, for both executions of the model, when the live data was brought in accuracy dropped dramatically.  The classification report did show the best accuracy was found to be for Entire House/Apt.  \n",
    "I'm fairly certain the reason for the drop in accuracy is due to the smaller input of data records that was used for live.  Future data sets will need to be monitored to ensure minimal data drift and to test for new features that may be of use.</p>"
   ]
  },
  {
   "cell_type": "markdown",
   "id": "168b7770-c24e-4c5d-af92-d8451cb30fe1",
   "metadata": {},
   "source": [
    "<div class=\"alert alert-info\"><b> Final Thoughts </b></div><p>"
   ]
  },
  {
   "cell_type": "markdown",
   "id": "dfc79463-ca03-40ed-a004-c1304581768c",
   "metadata": {},
   "source": [
    "This project definitely left me in tears more than once.  Felt pretty dumb aftr I finally read your comments from the Wk6 assignment.  It was definitely a face/palm moment.  And once I stepped back and applied \n",
    "what I didn't grasp before, everything fell into place, went easily and smoothly.  \n",
    "<p>I wanted to do more with drawing the parameters in from the etl_manipulations table, however, it eluded me on how to bring in the calculations from the table itself--i.e. price*minimum_nights and price*availability_365.  I got rather frustrated\n",
    "with it.  I was able to bring in the max value for filtering, yet I know there is a way to do it.  I 'fought' with this part of things initially, trying to figure out why I kept getting an error.  I had to do a lot of digging before I found\n",
    "the answer and redid the table name, making it lower case.  I'm sure that like SQL Server, there's a way to force postgres into seeing mixed case, I just haven't found it yet.</p>\n",
    "<p>Thank you for being patient and working with me during this term.  I have appreciated it!</p>"
   ]
  },
  {
   "attachments": {
    "07cde260-673c-4de0-a322-1582a1c3acf4.png": {
     "image/png": "[encoded data removed]"
    }
   },
   "cell_type": "markdown",
   "id": "b9e6fdae-1914-496a-b498-ed320447e955",
   "metadata": {},
   "source": [
    "![image.png](attachment:07cde260-673c-4de0-a322-1582a1c3acf4.png)\n"
   ]
  },
  {
   "attachments": {
    "87baebc3-5255-4b60-a062-81d41dc2c0d7.png": {
     "image/png": "[encoded data removed]"
    }
   },
   "cell_type": "markdown",
   "id": "e87134af-cbb1-4948-929c-a2b0521d3c9a",
   "metadata": {},
   "source": [
    "![image.png](attachment:87baebc3-5255-4b60-a062-81d41dc2c0d7.png)\n"
   ]
  },
  {
   "cell_type": "markdown",
   "id": "6f0569d5-e303-4919-b980-df521e7e48cf",
   "metadata": {},
   "source": [
    "References used:\n",
    "<p>https://stackoverflow.com/questions/695289/cannot-simply-use-postgresql-table-name-relation-does-not-exist</p>\n",
    "<p>https://stackoverflow.com/questions/34864695/saving-prediction-results-to-csv\n",
    "<p>https://plainenglish.io/blog/importing-csv-data-into-postgresql-using-python\n",
    "<p>https://stackoverflow.com/questions/59298580/how-to-specify-schema-in-psycopg2-connection-method\n",
    "<p>https://www.geeksforgeeks.org/random-forest-algorithm-in-machine-learning/</p>\n",
    "<p>https://www.analyticsvidhya.com/blog/2023/02/how-to-save-and-load-machine-learning-models-in-python-using-joblib-library/</p>\n",
    "<p>https://www.statology.org/sklearn-classification-report/</p>"
   ]
  }
 ],
 "metadata": {
  "kernelspec": {
   "display_name": "Python 3 (ipykernel)",
   "language": "python",
   "name": "python3"
  },
  "language_info": {
   "codemirror_mode": {
    "name": "ipython",
    "version": 3
   },
   "file_extension": ".py",
   "mimetype": "text/x-python",
   "name": "python",
   "nbconvert_exporter": "python",
   "pygments_lexer": "ipython3",
   "version": "3.12.7"
  }
 },
 "nbformat": 4,
 "nbformat_minor": 5
}
