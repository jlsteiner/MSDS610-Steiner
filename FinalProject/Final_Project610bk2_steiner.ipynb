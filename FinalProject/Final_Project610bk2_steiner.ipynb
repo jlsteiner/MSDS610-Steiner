{
 "cells": [
  {
   "cell_type": "markdown",
   "id": "bb123bf1-5cdd-4f4e-a898-4b1c2a0fc147",
   "metadata": {},
   "source": [
    "<div class=\"alert alert-info\">Chicago Airbnb-Steiner bk2</div><p>\n",
    "You and a group of friends are considering purchasing a property in Chicago that you can use as an investment. You have heard from other people that they have made a lot of money by renting out either a room or an entire unit (apartment or house). \n",
    "    <p>\n",
    "\n",
    "Your friends ask you to analyze data so that they can understand how much you would charge per night based on the type of dwelling you were to purchase."
   ]
  },
  {
   "cell_type": "code",
   "execution_count": 1,
   "id": "c00c255a-b1a3-4da6-b799-86307b49fa8f",
   "metadata": {
    "tags": []
   },
   "outputs": [],
   "source": [
    "#bring in packages meeded\n",
    "import pandas as pd\n",
    "import numpy as np\n",
    "import seaborn as sns\n",
    "\n",
    "import joblib\n",
    "from sklearn.model_selection import train_test_split\n",
    "from sklearn.datasets import load_iris\n",
    "from sklearn.tree import DecisionTreeClassifier, plot_tree\n",
    "from sklearn.ensemble import RandomForestClassifier\n",
    "from sklearn.metrics import accuracy_score\n",
    "import matplotlib.pyplot as plt"
   ]
  },
  {
   "cell_type": "code",
   "execution_count": 2,
   "id": "96f36d2c-3dac-4981-99d5-1394b49cdbcc",
   "metadata": {
    "tags": []
   },
   "outputs": [],
   "source": [
    "#import the sql package\n",
    "from sqlalchemy import create_engine"
   ]
  },
  {
   "cell_type": "code",
   "execution_count": 3,
   "id": "4f8d0b82-8402-4326-821d-f27e916f204d",
   "metadata": {
    "tags": []
   },
   "outputs": [],
   "source": [
    "#set up variable for the db\n",
    "host = r'127.0.0.1' # denotes that the db in a local installation\n",
    "db = r'MSDS610' # db for this class\n",
    "user = r'postgres' # using the postgres user because I'm too lazy to create a new one\n",
    "pw = r'BrightBlessings1!' # this is the password established during installation\n",
    "port = r'5432' # default port estabalished during install\n",
    "schema = r'cleaned' # schema "
   ]
  },
  {
   "cell_type": "code",
   "execution_count": 4,
   "id": "278395f0-9197-41c5-88d0-c25e6a146731",
   "metadata": {
    "tags": []
   },
   "outputs": [],
   "source": [
    "#open the connection\n",
    "db_conn = create_engine(\"postgresql://{}:{}@{}:{}/{}\".format(user, pw, host, port, db))"
   ]
  },
  {
   "cell_type": "code",
   "execution_count": 5,
   "id": "4def8e5d-e4df-45cc-a735-149262c0bc67",
   "metadata": {
    "tags": []
   },
   "outputs": [],
   "source": [
    "#read from the cleaned bnb table \n",
    "\n",
    "table_name = r'bnb_cleaned'\n",
    "schema = r'cleaned' # schema were the data was loaded last week.\n",
    "\n",
    "#set df equal to bnb\n",
    "bnb = pd.read_sql_table(table_name, db_conn, schema)\n",
    "df=bnb"
   ]
  },
  {
   "cell_type": "code",
   "execution_count": 6,
   "id": "ac6d4df0-dd87-40aa-af3c-8c8994e372a0",
   "metadata": {
    "tags": []
   },
   "outputs": [
    {
     "name": "stdout",
     "output_type": "stream",
     "text": [
      "<class 'pandas.core.frame.DataFrame'>\n",
      "RangeIndex: 6039 entries, 0 to 6038\n",
      "Data columns (total 7 columns):\n",
      " #   Column            Non-Null Count  Dtype \n",
      "---  ------            --------------  ----- \n",
      " 0   id                6039 non-null   int64 \n",
      " 1   room_type         6039 non-null   object\n",
      " 2   price             6039 non-null   int64 \n",
      " 3   minimum_nights    6039 non-null   int64 \n",
      " 4   availability_365  6039 non-null   int64 \n",
      " 5   minimum_cost      6039 non-null   int64 \n",
      " 6   possible_income   6039 non-null   int64 \n",
      "dtypes: int64(6), object(1)\n",
      "memory usage: 330.4+ KB\n"
     ]
    }
   ],
   "source": [
    "df.info()"
   ]
  },
  {
   "cell_type": "code",
   "execution_count": 7,
   "id": "71c0a745-4ea6-4327-b737-287e5fed4d53",
   "metadata": {},
   "outputs": [
    {
     "data": {
      "text/html": [
       "<div>\n",
       "<style scoped>\n",
       "    .dataframe tbody tr th:only-of-type {\n",
       "        vertical-align: middle;\n",
       "    }\n",
       "\n",
       "    .dataframe tbody tr th {\n",
       "        vertical-align: top;\n",
       "    }\n",
       "\n",
       "    .dataframe thead th {\n",
       "        text-align: right;\n",
       "    }\n",
       "</style>\n",
       "<table border=\"1\" class=\"dataframe\">\n",
       "  <thead>\n",
       "    <tr style=\"text-align: right;\">\n",
       "      <th></th>\n",
       "      <th>id</th>\n",
       "      <th>price</th>\n",
       "      <th>minimum_nights</th>\n",
       "      <th>availability_365</th>\n",
       "      <th>minimum_cost</th>\n",
       "      <th>possible_income</th>\n",
       "    </tr>\n",
       "  </thead>\n",
       "  <tbody>\n",
       "    <tr>\n",
       "      <th>count</th>\n",
       "      <td>6.039000e+03</td>\n",
       "      <td>6039.000000</td>\n",
       "      <td>6039.000000</td>\n",
       "      <td>6039.000000</td>\n",
       "      <td>6039.000000</td>\n",
       "      <td>6.039000e+03</td>\n",
       "    </tr>\n",
       "    <tr>\n",
       "      <th>mean</th>\n",
       "      <td>2.825647e+07</td>\n",
       "      <td>143.379533</td>\n",
       "      <td>6.759563</td>\n",
       "      <td>172.470608</td>\n",
       "      <td>950.981785</td>\n",
       "      <td>2.137809e+05</td>\n",
       "    </tr>\n",
       "    <tr>\n",
       "      <th>std</th>\n",
       "      <td>1.286957e+07</td>\n",
       "      <td>178.494246</td>\n",
       "      <td>11.839582</td>\n",
       "      <td>138.251715</td>\n",
       "      <td>2843.870952</td>\n",
       "      <td>6.518093e+05</td>\n",
       "    </tr>\n",
       "    <tr>\n",
       "      <th>min</th>\n",
       "      <td>2.384000e+03</td>\n",
       "      <td>10.000000</td>\n",
       "      <td>1.000000</td>\n",
       "      <td>0.000000</td>\n",
       "      <td>14.000000</td>\n",
       "      <td>0.000000e+00</td>\n",
       "    </tr>\n",
       "    <tr>\n",
       "      <th>25%</th>\n",
       "      <td>1.886402e+07</td>\n",
       "      <td>65.000000</td>\n",
       "      <td>1.000000</td>\n",
       "      <td>35.000000</td>\n",
       "      <td>105.000000</td>\n",
       "      <td>4.617500e+03</td>\n",
       "    </tr>\n",
       "    <tr>\n",
       "      <th>50%</th>\n",
       "      <td>3.018688e+07</td>\n",
       "      <td>100.000000</td>\n",
       "      <td>2.000000</td>\n",
       "      <td>159.000000</td>\n",
       "      <td>237.000000</td>\n",
       "      <td>2.717600e+04</td>\n",
       "    </tr>\n",
       "    <tr>\n",
       "      <th>75%</th>\n",
       "      <td>3.962737e+07</td>\n",
       "      <td>156.000000</td>\n",
       "      <td>3.000000</td>\n",
       "      <td>326.000000</td>\n",
       "      <td>623.500000</td>\n",
       "      <td>1.080960e+05</td>\n",
       "    </tr>\n",
       "    <tr>\n",
       "      <th>max</th>\n",
       "      <td>4.551558e+07</td>\n",
       "      <td>3690.000000</td>\n",
       "      <td>90.000000</td>\n",
       "      <td>365.000000</td>\n",
       "      <td>114390.000000</td>\n",
       "      <td>1.720992e+07</td>\n",
       "    </tr>\n",
       "  </tbody>\n",
       "</table>\n",
       "</div>"
      ],
      "text/plain": [
       "                 id        price  minimum_nights  availability_365  \\\n",
       "count  6.039000e+03  6039.000000     6039.000000       6039.000000   \n",
       "mean   2.825647e+07   143.379533        6.759563        172.470608   \n",
       "std    1.286957e+07   178.494246       11.839582        138.251715   \n",
       "min    2.384000e+03    10.000000        1.000000          0.000000   \n",
       "25%    1.886402e+07    65.000000        1.000000         35.000000   \n",
       "50%    3.018688e+07   100.000000        2.000000        159.000000   \n",
       "75%    3.962737e+07   156.000000        3.000000        326.000000   \n",
       "max    4.551558e+07  3690.000000       90.000000        365.000000   \n",
       "\n",
       "        minimum_cost  possible_income  \n",
       "count    6039.000000     6.039000e+03  \n",
       "mean      950.981785     2.137809e+05  \n",
       "std      2843.870952     6.518093e+05  \n",
       "min        14.000000     0.000000e+00  \n",
       "25%       105.000000     4.617500e+03  \n",
       "50%       237.000000     2.717600e+04  \n",
       "75%       623.500000     1.080960e+05  \n",
       "max    114390.000000     1.720992e+07  "
      ]
     },
     "execution_count": 7,
     "metadata": {},
     "output_type": "execute_result"
    }
   ],
   "source": [
    "df.describe()"
   ]
  },
  {
   "cell_type": "markdown",
   "id": "fe2a4a4a-e11c-44a1-b1d3-f9789e174d17",
   "metadata": {},
   "source": [
    "<div class=\"alert alert-info\">3-Way splitting of the data</div>\n",
    "\n"
   ]
  },
  {
   "cell_type": "code",
   "execution_count": 8,
   "id": "132fa0d6-c174-4294-9828-f86286ec8bf4",
   "metadata": {
    "tags": []
   },
   "outputs": [],
   "source": [
    "#gather up names of all the columns\n",
    "cols = df.columns\n",
    "\n",
    "#set the prediction column and the feature columns for KNN\n",
    "#using room type\n",
    "prediction_col = 'room_type'\n",
    "feature_cols = [c for c in cols if c != prediction_col]\n",
    "X = df[feature_cols]\n",
    "y = df[prediction_col]"
   ]
  },
  {
   "cell_type": "code",
   "execution_count": 9,
   "id": "030465ef-b087-436c-9fd1-0347c2e5cddd",
   "metadata": {
    "tags": []
   },
   "outputs": [],
   "source": [
    "# Train-Validation-Test Split - First split\n",
    "X_train, X_temp, y_train, y_temp = train_test_split(X, y, random_state=42, test_size=0.3, stratify=y)"
   ]
  },
  {
   "cell_type": "markdown",
   "id": "368562c4-b453-4066-bf83-ee40ca368ba4",
   "metadata": {},
   "source": [
    "checking the data as I go along"
   ]
  },
  {
   "cell_type": "code",
   "execution_count": 10,
   "id": "e62f1f19-a374-48c2-bcb6-a56d349dcbff",
   "metadata": {
    "tags": []
   },
   "outputs": [
    {
     "name": "stdout",
     "output_type": "stream",
     "text": [
      "<class 'pandas.core.frame.DataFrame'>\n",
      "Index: 1812 entries, 2819 to 2890\n",
      "Data columns (total 6 columns):\n",
      " #   Column            Non-Null Count  Dtype\n",
      "---  ------            --------------  -----\n",
      " 0   id                1812 non-null   int64\n",
      " 1   price             1812 non-null   int64\n",
      " 2   minimum_nights    1812 non-null   int64\n",
      " 3   availability_365  1812 non-null   int64\n",
      " 4   minimum_cost      1812 non-null   int64\n",
      " 5   possible_income   1812 non-null   int64\n",
      "dtypes: int64(6)\n",
      "memory usage: 99.1 KB\n"
     ]
    }
   ],
   "source": [
    "X_temp.info()"
   ]
  },
  {
   "cell_type": "code",
   "execution_count": 11,
   "id": "a76886f8-27dc-474a-8ec2-2053bb9c42e8",
   "metadata": {
    "tags": []
   },
   "outputs": [
    {
     "data": {
      "text/html": [
       "<div>\n",
       "<style scoped>\n",
       "    .dataframe tbody tr th:only-of-type {\n",
       "        vertical-align: middle;\n",
       "    }\n",
       "\n",
       "    .dataframe tbody tr th {\n",
       "        vertical-align: top;\n",
       "    }\n",
       "\n",
       "    .dataframe thead th {\n",
       "        text-align: right;\n",
       "    }\n",
       "</style>\n",
       "<table border=\"1\" class=\"dataframe\">\n",
       "  <thead>\n",
       "    <tr style=\"text-align: right;\">\n",
       "      <th></th>\n",
       "      <th>id</th>\n",
       "      <th>price</th>\n",
       "      <th>minimum_nights</th>\n",
       "      <th>availability_365</th>\n",
       "      <th>minimum_cost</th>\n",
       "      <th>possible_income</th>\n",
       "    </tr>\n",
       "  </thead>\n",
       "  <tbody>\n",
       "    <tr>\n",
       "      <th>2819</th>\n",
       "      <td>28819602</td>\n",
       "      <td>180</td>\n",
       "      <td>2</td>\n",
       "      <td>4</td>\n",
       "      <td>360</td>\n",
       "      <td>1440</td>\n",
       "    </tr>\n",
       "    <tr>\n",
       "      <th>3407</th>\n",
       "      <td>33662870</td>\n",
       "      <td>70</td>\n",
       "      <td>2</td>\n",
       "      <td>269</td>\n",
       "      <td>140</td>\n",
       "      <td>37660</td>\n",
       "    </tr>\n",
       "    <tr>\n",
       "      <th>2571</th>\n",
       "      <td>27106400</td>\n",
       "      <td>96</td>\n",
       "      <td>1</td>\n",
       "      <td>59</td>\n",
       "      <td>96</td>\n",
       "      <td>5664</td>\n",
       "    </tr>\n",
       "    <tr>\n",
       "      <th>917</th>\n",
       "      <td>12698881</td>\n",
       "      <td>159</td>\n",
       "      <td>1</td>\n",
       "      <td>320</td>\n",
       "      <td>159</td>\n",
       "      <td>50880</td>\n",
       "    </tr>\n",
       "    <tr>\n",
       "      <th>4682</th>\n",
       "      <td>40232559</td>\n",
       "      <td>58</td>\n",
       "      <td>4</td>\n",
       "      <td>75</td>\n",
       "      <td>232</td>\n",
       "      <td>17400</td>\n",
       "    </tr>\n",
       "  </tbody>\n",
       "</table>\n",
       "</div>"
      ],
      "text/plain": [
       "            id  price  minimum_nights  availability_365  minimum_cost  \\\n",
       "2819  28819602    180               2                 4           360   \n",
       "3407  33662870     70               2               269           140   \n",
       "2571  27106400     96               1                59            96   \n",
       "917   12698881    159               1               320           159   \n",
       "4682  40232559     58               4                75           232   \n",
       "\n",
       "      possible_income  \n",
       "2819             1440  \n",
       "3407            37660  \n",
       "2571             5664  \n",
       "917             50880  \n",
       "4682            17400  "
      ]
     },
     "execution_count": 11,
     "metadata": {},
     "output_type": "execute_result"
    }
   ],
   "source": [
    "X_temp.head()"
   ]
  },
  {
   "cell_type": "code",
   "execution_count": 12,
   "id": "8090eed5-8610-46ed-b05f-ddd853ddf794",
   "metadata": {
    "tags": []
   },
   "outputs": [
    {
     "name": "stdout",
     "output_type": "stream",
     "text": [
      "<class 'pandas.core.series.Series'>\n",
      "Index: 1812 entries, 2819 to 2890\n",
      "Series name: room_type\n",
      "Non-Null Count  Dtype \n",
      "--------------  ----- \n",
      "1812 non-null   object\n",
      "dtypes: object(1)\n",
      "memory usage: 28.3+ KB\n"
     ]
    }
   ],
   "source": [
    "y_temp.info()"
   ]
  },
  {
   "cell_type": "code",
   "execution_count": 13,
   "id": "19117a62-aa4a-47e9-99f8-86fe30672beb",
   "metadata": {
    "tags": []
   },
   "outputs": [
    {
     "data": {
      "text/plain": [
       "2819    Entire home/apt\n",
       "3407       Private room\n",
       "2571    Entire home/apt\n",
       "917     Entire home/apt\n",
       "4682    Entire home/apt\n",
       "Name: room_type, dtype: object"
      ]
     },
     "execution_count": 13,
     "metadata": {},
     "output_type": "execute_result"
    }
   ],
   "source": [
    "y_temp.head()"
   ]
  },
  {
   "cell_type": "code",
   "execution_count": 14,
   "id": "3778a217-0db4-4b4f-926d-4687ae7d72aa",
   "metadata": {
    "tags": []
   },
   "outputs": [],
   "source": [
    "# Train-Validation-Test Split - Second split\n",
    "X_test, X_val, y_test, y_val = train_test_split(X_temp, y_temp, random_state=42, test_size=0.5, stratify=y_temp)"
   ]
  },
  {
   "cell_type": "code",
   "execution_count": 15,
   "id": "2e3a1ae6-ff5d-4146-9570-4de259ecd0dd",
   "metadata": {
    "tags": []
   },
   "outputs": [
    {
     "name": "stdout",
     "output_type": "stream",
     "text": [
      "(906, 6)\n"
     ]
    },
    {
     "data": {
      "text/html": [
       "<div>\n",
       "<style scoped>\n",
       "    .dataframe tbody tr th:only-of-type {\n",
       "        vertical-align: middle;\n",
       "    }\n",
       "\n",
       "    .dataframe tbody tr th {\n",
       "        vertical-align: top;\n",
       "    }\n",
       "\n",
       "    .dataframe thead th {\n",
       "        text-align: right;\n",
       "    }\n",
       "</style>\n",
       "<table border=\"1\" class=\"dataframe\">\n",
       "  <thead>\n",
       "    <tr style=\"text-align: right;\">\n",
       "      <th></th>\n",
       "      <th>id</th>\n",
       "      <th>price</th>\n",
       "      <th>minimum_nights</th>\n",
       "      <th>availability_365</th>\n",
       "      <th>minimum_cost</th>\n",
       "      <th>possible_income</th>\n",
       "    </tr>\n",
       "  </thead>\n",
       "  <tbody>\n",
       "    <tr>\n",
       "      <th>700</th>\n",
       "      <td>9150564</td>\n",
       "      <td>75</td>\n",
       "      <td>3</td>\n",
       "      <td>177</td>\n",
       "      <td>225</td>\n",
       "      <td>39825</td>\n",
       "    </tr>\n",
       "    <tr>\n",
       "      <th>1297</th>\n",
       "      <td>16488400</td>\n",
       "      <td>350</td>\n",
       "      <td>5</td>\n",
       "      <td>88</td>\n",
       "      <td>1750</td>\n",
       "      <td>154000</td>\n",
       "    </tr>\n",
       "    <tr>\n",
       "      <th>5572</th>\n",
       "      <td>43835556</td>\n",
       "      <td>101</td>\n",
       "      <td>2</td>\n",
       "      <td>167</td>\n",
       "      <td>202</td>\n",
       "      <td>33734</td>\n",
       "    </tr>\n",
       "    <tr>\n",
       "      <th>3674</th>\n",
       "      <td>35382254</td>\n",
       "      <td>635</td>\n",
       "      <td>1</td>\n",
       "      <td>102</td>\n",
       "      <td>635</td>\n",
       "      <td>64770</td>\n",
       "    </tr>\n",
       "    <tr>\n",
       "      <th>3676</th>\n",
       "      <td>35387889</td>\n",
       "      <td>119</td>\n",
       "      <td>3</td>\n",
       "      <td>179</td>\n",
       "      <td>357</td>\n",
       "      <td>63903</td>\n",
       "    </tr>\n",
       "  </tbody>\n",
       "</table>\n",
       "</div>"
      ],
      "text/plain": [
       "            id  price  minimum_nights  availability_365  minimum_cost  \\\n",
       "700    9150564     75               3               177           225   \n",
       "1297  16488400    350               5                88          1750   \n",
       "5572  43835556    101               2               167           202   \n",
       "3674  35382254    635               1               102           635   \n",
       "3676  35387889    119               3               179           357   \n",
       "\n",
       "      possible_income  \n",
       "700             39825  \n",
       "1297           154000  \n",
       "5572            33734  \n",
       "3674            64770  \n",
       "3676            63903  "
      ]
     },
     "execution_count": 15,
     "metadata": {},
     "output_type": "execute_result"
    }
   ],
   "source": [
    "print(X_test.shape)\n",
    "X_test.head()"
   ]
  },
  {
   "cell_type": "markdown",
   "id": "8fc3482f-42d4-48a5-8c6e-e0dee198cddd",
   "metadata": {},
   "source": [
    "Yes, I finally figured out what I was actually supposed to do.  :)"
   ]
  },
  {
   "cell_type": "code",
   "execution_count": 16,
   "id": "dfc789d0-cb87-4648-adc2-03252eb6f497",
   "metadata": {
    "tags": []
   },
   "outputs": [
    {
     "name": "stdout",
     "output_type": "stream",
     "text": [
      "(906, 6)\n"
     ]
    },
    {
     "data": {
      "text/html": [
       "<div>\n",
       "<style scoped>\n",
       "    .dataframe tbody tr th:only-of-type {\n",
       "        vertical-align: middle;\n",
       "    }\n",
       "\n",
       "    .dataframe tbody tr th {\n",
       "        vertical-align: top;\n",
       "    }\n",
       "\n",
       "    .dataframe thead th {\n",
       "        text-align: right;\n",
       "    }\n",
       "</style>\n",
       "<table border=\"1\" class=\"dataframe\">\n",
       "  <thead>\n",
       "    <tr style=\"text-align: right;\">\n",
       "      <th></th>\n",
       "      <th>id</th>\n",
       "      <th>price</th>\n",
       "      <th>minimum_nights</th>\n",
       "      <th>availability_365</th>\n",
       "      <th>minimum_cost</th>\n",
       "      <th>possible_income</th>\n",
       "    </tr>\n",
       "  </thead>\n",
       "  <tbody>\n",
       "    <tr>\n",
       "      <th>766</th>\n",
       "      <td>10411427</td>\n",
       "      <td>39</td>\n",
       "      <td>3</td>\n",
       "      <td>294</td>\n",
       "      <td>117</td>\n",
       "      <td>34398</td>\n",
       "    </tr>\n",
       "    <tr>\n",
       "      <th>430</th>\n",
       "      <td>6374350</td>\n",
       "      <td>76</td>\n",
       "      <td>2</td>\n",
       "      <td>345</td>\n",
       "      <td>152</td>\n",
       "      <td>52440</td>\n",
       "    </tr>\n",
       "    <tr>\n",
       "      <th>3610</th>\n",
       "      <td>34942855</td>\n",
       "      <td>208</td>\n",
       "      <td>2</td>\n",
       "      <td>13</td>\n",
       "      <td>416</td>\n",
       "      <td>5408</td>\n",
       "    </tr>\n",
       "    <tr>\n",
       "      <th>3217</th>\n",
       "      <td>32384583</td>\n",
       "      <td>75</td>\n",
       "      <td>2</td>\n",
       "      <td>358</td>\n",
       "      <td>150</td>\n",
       "      <td>53700</td>\n",
       "    </tr>\n",
       "    <tr>\n",
       "      <th>2950</th>\n",
       "      <td>29662221</td>\n",
       "      <td>35</td>\n",
       "      <td>32</td>\n",
       "      <td>295</td>\n",
       "      <td>1120</td>\n",
       "      <td>330400</td>\n",
       "    </tr>\n",
       "  </tbody>\n",
       "</table>\n",
       "</div>"
      ],
      "text/plain": [
       "            id  price  minimum_nights  availability_365  minimum_cost  \\\n",
       "766   10411427     39               3               294           117   \n",
       "430    6374350     76               2               345           152   \n",
       "3610  34942855    208               2                13           416   \n",
       "3217  32384583     75               2               358           150   \n",
       "2950  29662221     35              32               295          1120   \n",
       "\n",
       "      possible_income  \n",
       "766             34398  \n",
       "430             52440  \n",
       "3610             5408  \n",
       "3217            53700  \n",
       "2950           330400  "
      ]
     },
     "execution_count": 16,
     "metadata": {},
     "output_type": "execute_result"
    }
   ],
   "source": [
    "joblib.dump(X_val, 'x_val.jolib')\n",
    "print(X_val.shape)\n",
    "X_val.head()"
   ]
  },
  {
   "cell_type": "code",
   "execution_count": 17,
   "id": "bfdb4041-12ab-4f48-a584-67ddfef64160",
   "metadata": {
    "tags": []
   },
   "outputs": [
    {
     "name": "stdout",
     "output_type": "stream",
     "text": [
      "(906,)\n"
     ]
    },
    {
     "data": {
      "text/plain": [
       "700        Private room\n",
       "1297    Entire home/apt\n",
       "5572    Entire home/apt\n",
       "3674    Entire home/apt\n",
       "3676    Entire home/apt\n",
       "Name: room_type, dtype: object"
      ]
     },
     "execution_count": 17,
     "metadata": {},
     "output_type": "execute_result"
    }
   ],
   "source": [
    "print(y_test.shape)\n",
    "y_test.head()"
   ]
  },
  {
   "cell_type": "code",
   "execution_count": 18,
   "id": "782e3269-d7a2-4eb5-ad43-10365933d69c",
   "metadata": {
    "tags": []
   },
   "outputs": [
    {
     "name": "stdout",
     "output_type": "stream",
     "text": [
      "(906,)\n"
     ]
    },
    {
     "data": {
      "text/plain": [
       "766        Private room\n",
       "430        Private room\n",
       "3610    Entire home/apt\n",
       "3217    Entire home/apt\n",
       "2950       Private room\n",
       "Name: room_type, dtype: object"
      ]
     },
     "execution_count": 18,
     "metadata": {},
     "output_type": "execute_result"
    }
   ],
   "source": [
    "joblib.dump(y_val, 'y_val.joblib')\n",
    "print(y_val.shape)\n",
    "y_val.head()"
   ]
  },
  {
   "cell_type": "markdown",
   "id": "ae4673e9-3f80-4a26-b16c-336e3104bb96",
   "metadata": {},
   "source": [
    "Okay, build the first model and save\n",
    "### Building the Model\n",
    "Following the 3 way split example from work book"
   ]
  },
  {
   "cell_type": "code",
   "execution_count": 19,
   "id": "f0bc69de-97ad-44d1-97cc-bb95ffaa69aa",
   "metadata": {
    "tags": []
   },
   "outputs": [
    {
     "data": {
      "text/html": [
       "<style>#sk-container-id-1 {\n",
       "  /* Definition of color scheme common for light and dark mode */\n",
       "  --sklearn-color-text: #000;\n",
       "  --sklearn-color-text-muted: #666;\n",
       "  --sklearn-color-line: gray;\n",
       "  /* Definition of color scheme for unfitted estimators */\n",
       "  --sklearn-color-unfitted-level-0: #fff5e6;\n",
       "  --sklearn-color-unfitted-level-1: #f6e4d2;\n",
       "  --sklearn-color-unfitted-level-2: #ffe0b3;\n",
       "  --sklearn-color-unfitted-level-3: chocolate;\n",
       "  /* Definition of color scheme for fitted estimators */\n",
       "  --sklearn-color-fitted-level-0: #f0f8ff;\n",
       "  --sklearn-color-fitted-level-1: #d4ebff;\n",
       "  --sklearn-color-fitted-level-2: #b3dbfd;\n",
       "  --sklearn-color-fitted-level-3: cornflowerblue;\n",
       "\n",
       "  /* Specific color for light theme */\n",
       "  --sklearn-color-text-on-default-background: var(--sg-text-color, var(--theme-code-foreground, var(--jp-content-font-color1, black)));\n",
       "  --sklearn-color-background: var(--sg-background-color, var(--theme-background, var(--jp-layout-color0, white)));\n",
       "  --sklearn-color-border-box: var(--sg-text-color, var(--theme-code-foreground, var(--jp-content-font-color1, black)));\n",
       "  --sklearn-color-icon: #696969;\n",
       "\n",
       "  @media (prefers-color-scheme: dark) {\n",
       "    /* Redefinition of color scheme for dark theme */\n",
       "    --sklearn-color-text-on-default-background: var(--sg-text-color, var(--theme-code-foreground, var(--jp-content-font-color1, white)));\n",
       "    --sklearn-color-background: var(--sg-background-color, var(--theme-background, var(--jp-layout-color0, #111)));\n",
       "    --sklearn-color-border-box: var(--sg-text-color, var(--theme-code-foreground, var(--jp-content-font-color1, white)));\n",
       "    --sklearn-color-icon: #878787;\n",
       "  }\n",
       "}\n",
       "\n",
       "#sk-container-id-1 {\n",
       "  color: var(--sklearn-color-text);\n",
       "}\n",
       "\n",
       "#sk-container-id-1 pre {\n",
       "  padding: 0;\n",
       "}\n",
       "\n",
       "#sk-container-id-1 input.sk-hidden--visually {\n",
       "  border: 0;\n",
       "  clip: rect(1px 1px 1px 1px);\n",
       "  clip: rect(1px, 1px, 1px, 1px);\n",
       "  height: 1px;\n",
       "  margin: -1px;\n",
       "  overflow: hidden;\n",
       "  padding: 0;\n",
       "  position: absolute;\n",
       "  width: 1px;\n",
       "}\n",
       "\n",
       "#sk-container-id-1 div.sk-dashed-wrapped {\n",
       "  border: 1px dashed var(--sklearn-color-line);\n",
       "  margin: 0 0.4em 0.5em 0.4em;\n",
       "  box-sizing: border-box;\n",
       "  padding-bottom: 0.4em;\n",
       "  background-color: var(--sklearn-color-background);\n",
       "}\n",
       "\n",
       "#sk-container-id-1 div.sk-container {\n",
       "  /* jupyter's `normalize.less` sets `[hidden] { display: none; }`\n",
       "     but bootstrap.min.css set `[hidden] { display: none !important; }`\n",
       "     so we also need the `!important` here to be able to override the\n",
       "     default hidden behavior on the sphinx rendered scikit-learn.org.\n",
       "     See: https://github.com/scikit-learn/scikit-learn/issues/21755 */\n",
       "  display: inline-block !important;\n",
       "  position: relative;\n",
       "}\n",
       "\n",
       "#sk-container-id-1 div.sk-text-repr-fallback {\n",
       "  display: none;\n",
       "}\n",
       "\n",
       "div.sk-parallel-item,\n",
       "div.sk-serial,\n",
       "div.sk-item {\n",
       "  /* draw centered vertical line to link estimators */\n",
       "  background-image: linear-gradient(var(--sklearn-color-text-on-default-background), var(--sklearn-color-text-on-default-background));\n",
       "  background-size: 2px 100%;\n",
       "  background-repeat: no-repeat;\n",
       "  background-position: center center;\n",
       "}\n",
       "\n",
       "/* Parallel-specific style estimator block */\n",
       "\n",
       "#sk-container-id-1 div.sk-parallel-item::after {\n",
       "  content: \"\";\n",
       "  width: 100%;\n",
       "  border-bottom: 2px solid var(--sklearn-color-text-on-default-background);\n",
       "  flex-grow: 1;\n",
       "}\n",
       "\n",
       "#sk-container-id-1 div.sk-parallel {\n",
       "  display: flex;\n",
       "  align-items: stretch;\n",
       "  justify-content: center;\n",
       "  background-color: var(--sklearn-color-background);\n",
       "  position: relative;\n",
       "}\n",
       "\n",
       "#sk-container-id-1 div.sk-parallel-item {\n",
       "  display: flex;\n",
       "  flex-direction: column;\n",
       "}\n",
       "\n",
       "#sk-container-id-1 div.sk-parallel-item:first-child::after {\n",
       "  align-self: flex-end;\n",
       "  width: 50%;\n",
       "}\n",
       "\n",
       "#sk-container-id-1 div.sk-parallel-item:last-child::after {\n",
       "  align-self: flex-start;\n",
       "  width: 50%;\n",
       "}\n",
       "\n",
       "#sk-container-id-1 div.sk-parallel-item:only-child::after {\n",
       "  width: 0;\n",
       "}\n",
       "\n",
       "/* Serial-specific style estimator block */\n",
       "\n",
       "#sk-container-id-1 div.sk-serial {\n",
       "  display: flex;\n",
       "  flex-direction: column;\n",
       "  align-items: center;\n",
       "  background-color: var(--sklearn-color-background);\n",
       "  padding-right: 1em;\n",
       "  padding-left: 1em;\n",
       "}\n",
       "\n",
       "\n",
       "/* Toggleable style: style used for estimator/Pipeline/ColumnTransformer box that is\n",
       "clickable and can be expanded/collapsed.\n",
       "- Pipeline and ColumnTransformer use this feature and define the default style\n",
       "- Estimators will overwrite some part of the style using the `sk-estimator` class\n",
       "*/\n",
       "\n",
       "/* Pipeline and ColumnTransformer style (default) */\n",
       "\n",
       "#sk-container-id-1 div.sk-toggleable {\n",
       "  /* Default theme specific background. It is overwritten whether we have a\n",
       "  specific estimator or a Pipeline/ColumnTransformer */\n",
       "  background-color: var(--sklearn-color-background);\n",
       "}\n",
       "\n",
       "/* Toggleable label */\n",
       "#sk-container-id-1 label.sk-toggleable__label {\n",
       "  cursor: pointer;\n",
       "  display: flex;\n",
       "  width: 100%;\n",
       "  margin-bottom: 0;\n",
       "  padding: 0.5em;\n",
       "  box-sizing: border-box;\n",
       "  text-align: center;\n",
       "  align-items: start;\n",
       "  justify-content: space-between;\n",
       "  gap: 0.5em;\n",
       "}\n",
       "\n",
       "#sk-container-id-1 label.sk-toggleable__label .caption {\n",
       "  font-size: 0.6rem;\n",
       "  font-weight: lighter;\n",
       "  color: var(--sklearn-color-text-muted);\n",
       "}\n",
       "\n",
       "#sk-container-id-1 label.sk-toggleable__label-arrow:before {\n",
       "  /* Arrow on the left of the label */\n",
       "  content: \"▸\";\n",
       "  float: left;\n",
       "  margin-right: 0.25em;\n",
       "  color: var(--sklearn-color-icon);\n",
       "}\n",
       "\n",
       "#sk-container-id-1 label.sk-toggleable__label-arrow:hover:before {\n",
       "  color: var(--sklearn-color-text);\n",
       "}\n",
       "\n",
       "/* Toggleable content - dropdown */\n",
       "\n",
       "#sk-container-id-1 div.sk-toggleable__content {\n",
       "  max-height: 0;\n",
       "  max-width: 0;\n",
       "  overflow: hidden;\n",
       "  text-align: left;\n",
       "  /* unfitted */\n",
       "  background-color: var(--sklearn-color-unfitted-level-0);\n",
       "}\n",
       "\n",
       "#sk-container-id-1 div.sk-toggleable__content.fitted {\n",
       "  /* fitted */\n",
       "  background-color: var(--sklearn-color-fitted-level-0);\n",
       "}\n",
       "\n",
       "#sk-container-id-1 div.sk-toggleable__content pre {\n",
       "  margin: 0.2em;\n",
       "  border-radius: 0.25em;\n",
       "  color: var(--sklearn-color-text);\n",
       "  /* unfitted */\n",
       "  background-color: var(--sklearn-color-unfitted-level-0);\n",
       "}\n",
       "\n",
       "#sk-container-id-1 div.sk-toggleable__content.fitted pre {\n",
       "  /* unfitted */\n",
       "  background-color: var(--sklearn-color-fitted-level-0);\n",
       "}\n",
       "\n",
       "#sk-container-id-1 input.sk-toggleable__control:checked~div.sk-toggleable__content {\n",
       "  /* Expand drop-down */\n",
       "  max-height: 200px;\n",
       "  max-width: 100%;\n",
       "  overflow: auto;\n",
       "}\n",
       "\n",
       "#sk-container-id-1 input.sk-toggleable__control:checked~label.sk-toggleable__label-arrow:before {\n",
       "  content: \"▾\";\n",
       "}\n",
       "\n",
       "/* Pipeline/ColumnTransformer-specific style */\n",
       "\n",
       "#sk-container-id-1 div.sk-label input.sk-toggleable__control:checked~label.sk-toggleable__label {\n",
       "  color: var(--sklearn-color-text);\n",
       "  background-color: var(--sklearn-color-unfitted-level-2);\n",
       "}\n",
       "\n",
       "#sk-container-id-1 div.sk-label.fitted input.sk-toggleable__control:checked~label.sk-toggleable__label {\n",
       "  background-color: var(--sklearn-color-fitted-level-2);\n",
       "}\n",
       "\n",
       "/* Estimator-specific style */\n",
       "\n",
       "/* Colorize estimator box */\n",
       "#sk-container-id-1 div.sk-estimator input.sk-toggleable__control:checked~label.sk-toggleable__label {\n",
       "  /* unfitted */\n",
       "  background-color: var(--sklearn-color-unfitted-level-2);\n",
       "}\n",
       "\n",
       "#sk-container-id-1 div.sk-estimator.fitted input.sk-toggleable__control:checked~label.sk-toggleable__label {\n",
       "  /* fitted */\n",
       "  background-color: var(--sklearn-color-fitted-level-2);\n",
       "}\n",
       "\n",
       "#sk-container-id-1 div.sk-label label.sk-toggleable__label,\n",
       "#sk-container-id-1 div.sk-label label {\n",
       "  /* The background is the default theme color */\n",
       "  color: var(--sklearn-color-text-on-default-background);\n",
       "}\n",
       "\n",
       "/* On hover, darken the color of the background */\n",
       "#sk-container-id-1 div.sk-label:hover label.sk-toggleable__label {\n",
       "  color: var(--sklearn-color-text);\n",
       "  background-color: var(--sklearn-color-unfitted-level-2);\n",
       "}\n",
       "\n",
       "/* Label box, darken color on hover, fitted */\n",
       "#sk-container-id-1 div.sk-label.fitted:hover label.sk-toggleable__label.fitted {\n",
       "  color: var(--sklearn-color-text);\n",
       "  background-color: var(--sklearn-color-fitted-level-2);\n",
       "}\n",
       "\n",
       "/* Estimator label */\n",
       "\n",
       "#sk-container-id-1 div.sk-label label {\n",
       "  font-family: monospace;\n",
       "  font-weight: bold;\n",
       "  display: inline-block;\n",
       "  line-height: 1.2em;\n",
       "}\n",
       "\n",
       "#sk-container-id-1 div.sk-label-container {\n",
       "  text-align: center;\n",
       "}\n",
       "\n",
       "/* Estimator-specific */\n",
       "#sk-container-id-1 div.sk-estimator {\n",
       "  font-family: monospace;\n",
       "  border: 1px dotted var(--sklearn-color-border-box);\n",
       "  border-radius: 0.25em;\n",
       "  box-sizing: border-box;\n",
       "  margin-bottom: 0.5em;\n",
       "  /* unfitted */\n",
       "  background-color: var(--sklearn-color-unfitted-level-0);\n",
       "}\n",
       "\n",
       "#sk-container-id-1 div.sk-estimator.fitted {\n",
       "  /* fitted */\n",
       "  background-color: var(--sklearn-color-fitted-level-0);\n",
       "}\n",
       "\n",
       "/* on hover */\n",
       "#sk-container-id-1 div.sk-estimator:hover {\n",
       "  /* unfitted */\n",
       "  background-color: var(--sklearn-color-unfitted-level-2);\n",
       "}\n",
       "\n",
       "#sk-container-id-1 div.sk-estimator.fitted:hover {\n",
       "  /* fitted */\n",
       "  background-color: var(--sklearn-color-fitted-level-2);\n",
       "}\n",
       "\n",
       "/* Specification for estimator info (e.g. \"i\" and \"?\") */\n",
       "\n",
       "/* Common style for \"i\" and \"?\" */\n",
       "\n",
       ".sk-estimator-doc-link,\n",
       "a:link.sk-estimator-doc-link,\n",
       "a:visited.sk-estimator-doc-link {\n",
       "  float: right;\n",
       "  font-size: smaller;\n",
       "  line-height: 1em;\n",
       "  font-family: monospace;\n",
       "  background-color: var(--sklearn-color-background);\n",
       "  border-radius: 1em;\n",
       "  height: 1em;\n",
       "  width: 1em;\n",
       "  text-decoration: none !important;\n",
       "  margin-left: 0.5em;\n",
       "  text-align: center;\n",
       "  /* unfitted */\n",
       "  border: var(--sklearn-color-unfitted-level-1) 1pt solid;\n",
       "  color: var(--sklearn-color-unfitted-level-1);\n",
       "}\n",
       "\n",
       ".sk-estimator-doc-link.fitted,\n",
       "a:link.sk-estimator-doc-link.fitted,\n",
       "a:visited.sk-estimator-doc-link.fitted {\n",
       "  /* fitted */\n",
       "  border: var(--sklearn-color-fitted-level-1) 1pt solid;\n",
       "  color: var(--sklearn-color-fitted-level-1);\n",
       "}\n",
       "\n",
       "/* On hover */\n",
       "div.sk-estimator:hover .sk-estimator-doc-link:hover,\n",
       ".sk-estimator-doc-link:hover,\n",
       "div.sk-label-container:hover .sk-estimator-doc-link:hover,\n",
       ".sk-estimator-doc-link:hover {\n",
       "  /* unfitted */\n",
       "  background-color: var(--sklearn-color-unfitted-level-3);\n",
       "  color: var(--sklearn-color-background);\n",
       "  text-decoration: none;\n",
       "}\n",
       "\n",
       "div.sk-estimator.fitted:hover .sk-estimator-doc-link.fitted:hover,\n",
       ".sk-estimator-doc-link.fitted:hover,\n",
       "div.sk-label-container:hover .sk-estimator-doc-link.fitted:hover,\n",
       ".sk-estimator-doc-link.fitted:hover {\n",
       "  /* fitted */\n",
       "  background-color: var(--sklearn-color-fitted-level-3);\n",
       "  color: var(--sklearn-color-background);\n",
       "  text-decoration: none;\n",
       "}\n",
       "\n",
       "/* Span, style for the box shown on hovering the info icon */\n",
       ".sk-estimator-doc-link span {\n",
       "  display: none;\n",
       "  z-index: 9999;\n",
       "  position: relative;\n",
       "  font-weight: normal;\n",
       "  right: .2ex;\n",
       "  padding: .5ex;\n",
       "  margin: .5ex;\n",
       "  width: min-content;\n",
       "  min-width: 20ex;\n",
       "  max-width: 50ex;\n",
       "  color: var(--sklearn-color-text);\n",
       "  box-shadow: 2pt 2pt 4pt #999;\n",
       "  /* unfitted */\n",
       "  background: var(--sklearn-color-unfitted-level-0);\n",
       "  border: .5pt solid var(--sklearn-color-unfitted-level-3);\n",
       "}\n",
       "\n",
       ".sk-estimator-doc-link.fitted span {\n",
       "  /* fitted */\n",
       "  background: var(--sklearn-color-fitted-level-0);\n",
       "  border: var(--sklearn-color-fitted-level-3);\n",
       "}\n",
       "\n",
       ".sk-estimator-doc-link:hover span {\n",
       "  display: block;\n",
       "}\n",
       "\n",
       "/* \"?\"-specific style due to the `<a>` HTML tag */\n",
       "\n",
       "#sk-container-id-1 a.estimator_doc_link {\n",
       "  float: right;\n",
       "  font-size: 1rem;\n",
       "  line-height: 1em;\n",
       "  font-family: monospace;\n",
       "  background-color: var(--sklearn-color-background);\n",
       "  border-radius: 1rem;\n",
       "  height: 1rem;\n",
       "  width: 1rem;\n",
       "  text-decoration: none;\n",
       "  /* unfitted */\n",
       "  color: var(--sklearn-color-unfitted-level-1);\n",
       "  border: var(--sklearn-color-unfitted-level-1) 1pt solid;\n",
       "}\n",
       "\n",
       "#sk-container-id-1 a.estimator_doc_link.fitted {\n",
       "  /* fitted */\n",
       "  border: var(--sklearn-color-fitted-level-1) 1pt solid;\n",
       "  color: var(--sklearn-color-fitted-level-1);\n",
       "}\n",
       "\n",
       "/* On hover */\n",
       "#sk-container-id-1 a.estimator_doc_link:hover {\n",
       "  /* unfitted */\n",
       "  background-color: var(--sklearn-color-unfitted-level-3);\n",
       "  color: var(--sklearn-color-background);\n",
       "  text-decoration: none;\n",
       "}\n",
       "\n",
       "#sk-container-id-1 a.estimator_doc_link.fitted:hover {\n",
       "  /* fitted */\n",
       "  background-color: var(--sklearn-color-fitted-level-3);\n",
       "}\n",
       "</style><div id=\"sk-container-id-1\" class=\"sk-top-container\"><div class=\"sk-text-repr-fallback\"><pre>RandomForestClassifier(random_state=42)</pre><b>In a Jupyter environment, please rerun this cell to show the HTML representation or trust the notebook. <br />On GitHub, the HTML representation is unable to render, please try loading this page with nbviewer.org.</b></div><div class=\"sk-container\" hidden><div class=\"sk-item\"><div class=\"sk-estimator fitted sk-toggleable\"><input class=\"sk-toggleable__control sk-hidden--visually\" id=\"sk-estimator-id-1\" type=\"checkbox\" checked><label for=\"sk-estimator-id-1\" class=\"sk-toggleable__label fitted sk-toggleable__label-arrow\"><div><div>RandomForestClassifier</div></div><div><a class=\"sk-estimator-doc-link fitted\" rel=\"noreferrer\" target=\"_blank\" href=\"https://scikit-learn.org/1.6/modules/generated/sklearn.ensemble.RandomForestClassifier.html\">?<span>Documentation for RandomForestClassifier</span></a><span class=\"sk-estimator-doc-link fitted\">i<span>Fitted</span></span></div></label><div class=\"sk-toggleable__content fitted\"><pre>RandomForestClassifier(random_state=42)</pre></div> </div></div></div></div>"
      ],
      "text/plain": [
       "RandomForestClassifier(random_state=42)"
      ]
     },
     "execution_count": 19,
     "metadata": {},
     "output_type": "execute_result"
    }
   ],
   "source": [
    "# Train a Random Forest classifier using training set\n",
    "model = RandomForestClassifier(n_estimators=100, random_state=42)\n",
    "model.fit(X_train, y_train)"
   ]
  },
  {
   "cell_type": "code",
   "execution_count": 20,
   "id": "653da89c-4849-4fdd-abd6-cc1a68139183",
   "metadata": {
    "tags": []
   },
   "outputs": [],
   "source": [
    "pred_X_test = model.predict(X_test)"
   ]
  },
  {
   "cell_type": "code",
   "execution_count": 21,
   "id": "ac5edf03-57ac-4354-aedb-f936ddfba9fe",
   "metadata": {
    "tags": []
   },
   "outputs": [
    {
     "data": {
      "text/plain": [
       "0.8598233995584988"
      ]
     },
     "execution_count": 21,
     "metadata": {},
     "output_type": "execute_result"
    }
   ],
   "source": [
    "accuracy_score(y_test,pred_X_test)"
   ]
  },
  {
   "cell_type": "markdown",
   "id": "eab42f3c-7838-4654-8e08-88a48d2ace86",
   "metadata": {},
   "source": [
    "<div class=\"alert alert-info\">Check different features to see which performs best.</div>\n",
    "\n",
    "<br>It appears that the accuracy is fairluy good so far.  \n",
    "<br>\n",
    "I did try using different features features, however, the other features yielded errors.\n",
    "<br>due to the errors, I chose to go with room type"
   ]
  },
  {
   "cell_type": "code",
   "execution_count": 22,
   "id": "7efb1cbf-28b4-417e-958f-64ac4d281df1",
   "metadata": {
    "tags": []
   },
   "outputs": [
    {
     "data": {
      "text/plain": [
       "['bnb_rf_model.joblib']"
      ]
     },
     "execution_count": 22,
     "metadata": {},
     "output_type": "execute_result"
    }
   ],
   "source": [
    "model_filename = \"bnb_rf_model.joblib\"\n",
    "joblib.dump(model, model_filename)"
   ]
  },
  {
   "cell_type": "markdown",
   "id": "fde22fe9-0c40-420a-adef-732357add626",
   "metadata": {},
   "source": [
    "\n",
    "<p> I am shamelessly using the code from week 6\n"
   ]
  },
  {
   "cell_type": "code",
   "execution_count": null,
   "id": "de365912-52ce-4ce4-ab56-7187d94d6d6b",
   "metadata": {},
   "outputs": [],
   "source": []
  }
 ],
 "metadata": {
  "kernelspec": {
   "display_name": "Python 3 (ipykernel)",
   "language": "python",
   "name": "python3"
  },
  "language_info": {
   "codemirror_mode": {
    "name": "ipython",
    "version": 3
   },
   "file_extension": ".py",
   "mimetype": "text/x-python",
   "name": "python",
   "nbconvert_exporter": "python",
   "pygments_lexer": "ipython3",
   "version": "3.12.7"
  }
 },
 "nbformat": 4,
 "nbformat_minor": 5
}
