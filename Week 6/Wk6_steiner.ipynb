{
 "cells": [
  {
   "cell_type": "markdown",
   "id": "3d1a7af1-c47a-4051-969d-49c7bb102142",
   "metadata": {},
   "source": [
    " Analytical Question:  Is it possible to predict Cardio Vascular disease using the data points from the chronic illness data file?"
   ]
  },
  {
   "cell_type": "code",
   "execution_count": 2,
   "id": "c00c255a-b1a3-4da6-b799-86307b49fa8f",
   "metadata": {
    "tags": []
   },
   "outputs": [],
   "source": [
    "import pandas as pd\n",
    "import numpy as np\n",
    "import seaborn as sns\n",
    "\n",
    "import joblib\n",
    "from sklearn.model_selection import train_test_split\n",
    "from sklearn.datasets import load_iris\n",
    "from sklearn.tree import DecisionTreeClassifier, plot_tree\n",
    "from sklearn.ensemble import RandomForestClassifier\n",
    "from sklearn.metrics import accuracy_score\n",
    "import matplotlib.pyplot as plt"
   ]
  },
  {
   "cell_type": "code",
   "execution_count": 3,
   "id": "96f36d2c-3dac-4981-99d5-1394b49cdbcc",
   "metadata": {
    "tags": []
   },
   "outputs": [],
   "source": [
    "#import the sql package\n",
    "from sqlalchemy import create_engine"
   ]
  },
  {
   "cell_type": "code",
   "execution_count": 4,
   "id": "4f8d0b82-8402-4326-821d-f27e916f204d",
   "metadata": {
    "tags": []
   },
   "outputs": [],
   "source": [
    "#set up variable for the db\n",
    "host = r'127.0.0.1' # denotes that the db in a local installation\n",
    "db = r'MSDS610' # db for this class\n",
    "user = r'postgres' # using the postgres user because I'm too lazy to create a new one\n",
    "pw = r'BrightBlessings1!' # this is the password established during installation\n",
    "port = r'5432' # default port estabalished during install\n",
    "schema = r'cleaned' # schema where I last saved the data to"
   ]
  },
  {
   "cell_type": "code",
   "execution_count": 5,
   "id": "278395f0-9197-41c5-88d0-c25e6a146731",
   "metadata": {
    "tags": []
   },
   "outputs": [],
   "source": [
    "#open the connection\n",
    "db_conn = create_engine(\"postgresql://{}:{}@{}:{}/{}\".format(user, pw, host, port, db))"
   ]
  },
  {
   "cell_type": "code",
   "execution_count": 6,
   "id": "4def8e5d-e4df-45cc-a735-149262c0bc67",
   "metadata": {
    "tags": []
   },
   "outputs": [],
   "source": [
    "#read from the table created\n",
    "\n",
    "table_name = r'tree'\n",
    "schema = r'cleaned' # schema were the data was loaded last week.\n",
    "\n",
    "#set df equal to disease, so we can use disease again\n",
    "disease = pd.read_sql_table(table_name, db_conn, schema)\n",
    "df=disease"
   ]
  },
  {
   "cell_type": "code",
   "execution_count": 7,
   "id": "ac6d4df0-dd87-40aa-af3c-8c8994e372a0",
   "metadata": {
    "tags": []
   },
   "outputs": [
    {
     "name": "stdout",
     "output_type": "stream",
     "text": [
      "<class 'pandas.core.frame.DataFrame'>\n",
      "RangeIndex: 577 entries, 0 to 576\n",
      "Data columns (total 10 columns):\n",
      " #   Column           Non-Null Count  Dtype  \n",
      "---  ------           --------------  -----  \n",
      " 0   YearStart        577 non-null    int64  \n",
      " 1   YearEnd          577 non-null    int64  \n",
      " 2   LocationAbbr     577 non-null    int64  \n",
      " 3   DataValueTypeID  577 non-null    int64  \n",
      " 4   DataValue        577 non-null    float64\n",
      " 5   QuestionID       577 non-null    int64  \n",
      " 6   gender           577 non-null    int64  \n",
      " 7   Race             577 non-null    int64  \n",
      " 8   Overall          577 non-null    int64  \n",
      " 9   Age              577 non-null    int64  \n",
      "dtypes: float64(1), int64(9)\n",
      "memory usage: 45.2 KB\n"
     ]
    }
   ],
   "source": [
    "df.info()"
   ]
  },
  {
   "cell_type": "markdown",
   "id": "fe2a4a4a-e11c-44a1-b1d3-f9789e174d17",
   "metadata": {},
   "source": [
    "<div class=\"alert alert-info\">The cleaning was done last week and the result saved in postgres.</div>\n",
    "\n",
    "### 3-Way splitting of the data"
   ]
  },
  {
   "cell_type": "code",
   "execution_count": 9,
   "id": "132fa0d6-c174-4294-9828-f86286ec8bf4",
   "metadata": {
    "tags": []
   },
   "outputs": [],
   "source": [
    "#gather up names of all the columns\n",
    "cols = df.columns\n",
    "\n",
    "#set the prediction column and the feature columns for KNN\n",
    "#startng with Race snce last week the 'important' feature placed race as #1\n",
    "prediction_col = 'Race'\n",
    "feature_cols = [c for c in cols if c != prediction_col]\n",
    "X = df[feature_cols]\n",
    "y = df[prediction_col]"
   ]
  },
  {
   "cell_type": "code",
   "execution_count": 10,
   "id": "030465ef-b087-436c-9fd1-0347c2e5cddd",
   "metadata": {
    "tags": []
   },
   "outputs": [],
   "source": [
    "# Train-Validation-Test Split - First split\n",
    "X_train, X_temp, y_train, y_temp = train_test_split(X, y, random_state=42, test_size=0.3, stratify=y)"
   ]
  },
  {
   "cell_type": "code",
   "execution_count": 11,
   "id": "e62f1f19-a374-48c2-bcb6-a56d349dcbff",
   "metadata": {
    "tags": []
   },
   "outputs": [
    {
     "name": "stdout",
     "output_type": "stream",
     "text": [
      "<class 'pandas.core.frame.DataFrame'>\n",
      "Index: 174 entries, 481 to 488\n",
      "Data columns (total 9 columns):\n",
      " #   Column           Non-Null Count  Dtype  \n",
      "---  ------           --------------  -----  \n",
      " 0   YearStart        174 non-null    int64  \n",
      " 1   YearEnd          174 non-null    int64  \n",
      " 2   LocationAbbr     174 non-null    int64  \n",
      " 3   DataValueTypeID  174 non-null    int64  \n",
      " 4   DataValue        174 non-null    float64\n",
      " 5   QuestionID       174 non-null    int64  \n",
      " 6   gender           174 non-null    int64  \n",
      " 7   Overall          174 non-null    int64  \n",
      " 8   Age              174 non-null    int64  \n",
      "dtypes: float64(1), int64(8)\n",
      "memory usage: 13.6 KB\n"
     ]
    }
   ],
   "source": [
    "X_temp.info()"
   ]
  },
  {
   "cell_type": "code",
   "execution_count": 12,
   "id": "a76886f8-27dc-474a-8ec2-2053bb9c42e8",
   "metadata": {
    "tags": []
   },
   "outputs": [
    {
     "data": {
      "text/html": [
       "<div>\n",
       "<style scoped>\n",
       "    .dataframe tbody tr th:only-of-type {\n",
       "        vertical-align: middle;\n",
       "    }\n",
       "\n",
       "    .dataframe tbody tr th {\n",
       "        vertical-align: top;\n",
       "    }\n",
       "\n",
       "    .dataframe thead th {\n",
       "        text-align: right;\n",
       "    }\n",
       "</style>\n",
       "<table border=\"1\" class=\"dataframe\">\n",
       "  <thead>\n",
       "    <tr style=\"text-align: right;\">\n",
       "      <th></th>\n",
       "      <th>YearStart</th>\n",
       "      <th>YearEnd</th>\n",
       "      <th>LocationAbbr</th>\n",
       "      <th>DataValueTypeID</th>\n",
       "      <th>DataValue</th>\n",
       "      <th>QuestionID</th>\n",
       "      <th>gender</th>\n",
       "      <th>Overall</th>\n",
       "      <th>Age</th>\n",
       "    </tr>\n",
       "  </thead>\n",
       "  <tbody>\n",
       "    <tr>\n",
       "      <th>481</th>\n",
       "      <td>2021</td>\n",
       "      <td>2021</td>\n",
       "      <td>0</td>\n",
       "      <td>4</td>\n",
       "      <td>0.0</td>\n",
       "      <td>1</td>\n",
       "      <td>0</td>\n",
       "      <td>0</td>\n",
       "      <td>0</td>\n",
       "    </tr>\n",
       "    <tr>\n",
       "      <th>18</th>\n",
       "      <td>2019</td>\n",
       "      <td>2019</td>\n",
       "      <td>0</td>\n",
       "      <td>0</td>\n",
       "      <td>870.0</td>\n",
       "      <td>7</td>\n",
       "      <td>0</td>\n",
       "      <td>0</td>\n",
       "      <td>0</td>\n",
       "    </tr>\n",
       "    <tr>\n",
       "      <th>162</th>\n",
       "      <td>2019</td>\n",
       "      <td>2019</td>\n",
       "      <td>0</td>\n",
       "      <td>4</td>\n",
       "      <td>64.3</td>\n",
       "      <td>1</td>\n",
       "      <td>0</td>\n",
       "      <td>0</td>\n",
       "      <td>0</td>\n",
       "    </tr>\n",
       "    <tr>\n",
       "      <th>65</th>\n",
       "      <td>2019</td>\n",
       "      <td>2019</td>\n",
       "      <td>0</td>\n",
       "      <td>4</td>\n",
       "      <td>48.0</td>\n",
       "      <td>0</td>\n",
       "      <td>0</td>\n",
       "      <td>0</td>\n",
       "      <td>0</td>\n",
       "    </tr>\n",
       "    <tr>\n",
       "      <th>114</th>\n",
       "      <td>2019</td>\n",
       "      <td>2019</td>\n",
       "      <td>0</td>\n",
       "      <td>3</td>\n",
       "      <td>32.1</td>\n",
       "      <td>2</td>\n",
       "      <td>1</td>\n",
       "      <td>0</td>\n",
       "      <td>0</td>\n",
       "    </tr>\n",
       "  </tbody>\n",
       "</table>\n",
       "</div>"
      ],
      "text/plain": [
       "     YearStart  YearEnd  LocationAbbr  DataValueTypeID  DataValue  QuestionID  \\\n",
       "481       2021     2021             0                4        0.0           1   \n",
       "18        2019     2019             0                0      870.0           7   \n",
       "162       2019     2019             0                4       64.3           1   \n",
       "65        2019     2019             0                4       48.0           0   \n",
       "114       2019     2019             0                3       32.1           2   \n",
       "\n",
       "     gender  Overall  Age  \n",
       "481       0        0    0  \n",
       "18        0        0    0  \n",
       "162       0        0    0  \n",
       "65        0        0    0  \n",
       "114       1        0    0  "
      ]
     },
     "execution_count": 12,
     "metadata": {},
     "output_type": "execute_result"
    }
   ],
   "source": [
    "X_temp.head()"
   ]
  },
  {
   "cell_type": "code",
   "execution_count": 13,
   "id": "8090eed5-8610-46ed-b05f-ddd853ddf794",
   "metadata": {
    "tags": []
   },
   "outputs": [
    {
     "name": "stdout",
     "output_type": "stream",
     "text": [
      "<class 'pandas.core.series.Series'>\n",
      "Index: 174 entries, 481 to 488\n",
      "Series name: Race\n",
      "Non-Null Count  Dtype\n",
      "--------------  -----\n",
      "174 non-null    int64\n",
      "dtypes: int64(1)\n",
      "memory usage: 2.7 KB\n"
     ]
    }
   ],
   "source": [
    "y_temp.info()"
   ]
  },
  {
   "cell_type": "code",
   "execution_count": 14,
   "id": "19117a62-aa4a-47e9-99f8-86fe30672beb",
   "metadata": {
    "tags": []
   },
   "outputs": [
    {
     "data": {
      "text/plain": [
       "481    7\n",
       "18     6\n",
       "162    2\n",
       "65     4\n",
       "114    0\n",
       "Name: Race, dtype: int64"
      ]
     },
     "execution_count": 14,
     "metadata": {},
     "output_type": "execute_result"
    }
   ],
   "source": [
    "y_temp.head()"
   ]
  },
  {
   "cell_type": "code",
   "execution_count": 15,
   "id": "3778a217-0db4-4b4f-926d-4687ae7d72aa",
   "metadata": {
    "tags": []
   },
   "outputs": [],
   "source": [
    "# Train-Validation-Test Split - Second split\n",
    "X_test, X_val, y_test, y_val = train_test_split(X_temp, y_temp, random_state=42, test_size=0.5, stratify=y_temp)"
   ]
  },
  {
   "cell_type": "code",
   "execution_count": 16,
   "id": "2e3a1ae6-ff5d-4146-9570-4de259ecd0dd",
   "metadata": {
    "tags": []
   },
   "outputs": [
    {
     "name": "stdout",
     "output_type": "stream",
     "text": [
      "(87, 9)\n"
     ]
    },
    {
     "data": {
      "text/html": [
       "<div>\n",
       "<style scoped>\n",
       "    .dataframe tbody tr th:only-of-type {\n",
       "        vertical-align: middle;\n",
       "    }\n",
       "\n",
       "    .dataframe tbody tr th {\n",
       "        vertical-align: top;\n",
       "    }\n",
       "\n",
       "    .dataframe thead th {\n",
       "        text-align: right;\n",
       "    }\n",
       "</style>\n",
       "<table border=\"1\" class=\"dataframe\">\n",
       "  <thead>\n",
       "    <tr style=\"text-align: right;\">\n",
       "      <th></th>\n",
       "      <th>YearStart</th>\n",
       "      <th>YearEnd</th>\n",
       "      <th>LocationAbbr</th>\n",
       "      <th>DataValueTypeID</th>\n",
       "      <th>DataValue</th>\n",
       "      <th>QuestionID</th>\n",
       "      <th>gender</th>\n",
       "      <th>Overall</th>\n",
       "      <th>Age</th>\n",
       "    </tr>\n",
       "  </thead>\n",
       "  <tbody>\n",
       "    <tr>\n",
       "      <th>369</th>\n",
       "      <td>2021</td>\n",
       "      <td>2021</td>\n",
       "      <td>0</td>\n",
       "      <td>3</td>\n",
       "      <td>0.0</td>\n",
       "      <td>3</td>\n",
       "      <td>0</td>\n",
       "      <td>0</td>\n",
       "      <td>0</td>\n",
       "    </tr>\n",
       "    <tr>\n",
       "      <th>204</th>\n",
       "      <td>2019</td>\n",
       "      <td>2019</td>\n",
       "      <td>0</td>\n",
       "      <td>2</td>\n",
       "      <td>126.2</td>\n",
       "      <td>7</td>\n",
       "      <td>1</td>\n",
       "      <td>0</td>\n",
       "      <td>0</td>\n",
       "    </tr>\n",
       "    <tr>\n",
       "      <th>232</th>\n",
       "      <td>2020</td>\n",
       "      <td>2020</td>\n",
       "      <td>0</td>\n",
       "      <td>0</td>\n",
       "      <td>17251.0</td>\n",
       "      <td>7</td>\n",
       "      <td>0</td>\n",
       "      <td>0</td>\n",
       "      <td>0</td>\n",
       "    </tr>\n",
       "    <tr>\n",
       "      <th>520</th>\n",
       "      <td>2021</td>\n",
       "      <td>2021</td>\n",
       "      <td>0</td>\n",
       "      <td>3</td>\n",
       "      <td>78.3</td>\n",
       "      <td>1</td>\n",
       "      <td>0</td>\n",
       "      <td>1</td>\n",
       "      <td>0</td>\n",
       "    </tr>\n",
       "    <tr>\n",
       "      <th>513</th>\n",
       "      <td>2021</td>\n",
       "      <td>2021</td>\n",
       "      <td>0</td>\n",
       "      <td>0</td>\n",
       "      <td>375476.0</td>\n",
       "      <td>6</td>\n",
       "      <td>0</td>\n",
       "      <td>1</td>\n",
       "      <td>0</td>\n",
       "    </tr>\n",
       "  </tbody>\n",
       "</table>\n",
       "</div>"
      ],
      "text/plain": [
       "     YearStart  YearEnd  LocationAbbr  DataValueTypeID  DataValue  QuestionID  \\\n",
       "369       2021     2021             0                3        0.0           3   \n",
       "204       2019     2019             0                2      126.2           7   \n",
       "232       2020     2020             0                0    17251.0           7   \n",
       "520       2021     2021             0                3       78.3           1   \n",
       "513       2021     2021             0                0   375476.0           6   \n",
       "\n",
       "     gender  Overall  Age  \n",
       "369       0        0    0  \n",
       "204       1        0    0  \n",
       "232       0        0    0  \n",
       "520       0        1    0  \n",
       "513       0        1    0  "
      ]
     },
     "execution_count": 16,
     "metadata": {},
     "output_type": "execute_result"
    }
   ],
   "source": [
    "print(X_test.shape)\n",
    "X_test.head()"
   ]
  },
  {
   "cell_type": "code",
   "execution_count": 17,
   "id": "dfc789d0-cb87-4648-adc2-03252eb6f497",
   "metadata": {
    "tags": []
   },
   "outputs": [
    {
     "name": "stdout",
     "output_type": "stream",
     "text": [
      "(87, 9)\n"
     ]
    },
    {
     "data": {
      "text/html": [
       "<div>\n",
       "<style scoped>\n",
       "    .dataframe tbody tr th:only-of-type {\n",
       "        vertical-align: middle;\n",
       "    }\n",
       "\n",
       "    .dataframe tbody tr th {\n",
       "        vertical-align: top;\n",
       "    }\n",
       "\n",
       "    .dataframe thead th {\n",
       "        text-align: right;\n",
       "    }\n",
       "</style>\n",
       "<table border=\"1\" class=\"dataframe\">\n",
       "  <thead>\n",
       "    <tr style=\"text-align: right;\">\n",
       "      <th></th>\n",
       "      <th>YearStart</th>\n",
       "      <th>YearEnd</th>\n",
       "      <th>LocationAbbr</th>\n",
       "      <th>DataValueTypeID</th>\n",
       "      <th>DataValue</th>\n",
       "      <th>QuestionID</th>\n",
       "      <th>gender</th>\n",
       "      <th>Overall</th>\n",
       "      <th>Age</th>\n",
       "    </tr>\n",
       "  </thead>\n",
       "  <tbody>\n",
       "    <tr>\n",
       "      <th>164</th>\n",
       "      <td>2019</td>\n",
       "      <td>2019</td>\n",
       "      <td>0</td>\n",
       "      <td>1</td>\n",
       "      <td>40.60</td>\n",
       "      <td>5</td>\n",
       "      <td>0</td>\n",
       "      <td>0</td>\n",
       "      <td>0</td>\n",
       "    </tr>\n",
       "    <tr>\n",
       "      <th>220</th>\n",
       "      <td>2019</td>\n",
       "      <td>2019</td>\n",
       "      <td>0</td>\n",
       "      <td>3</td>\n",
       "      <td>81.20</td>\n",
       "      <td>1</td>\n",
       "      <td>1</td>\n",
       "      <td>0</td>\n",
       "      <td>0</td>\n",
       "    </tr>\n",
       "    <tr>\n",
       "      <th>10</th>\n",
       "      <td>2019</td>\n",
       "      <td>2019</td>\n",
       "      <td>0</td>\n",
       "      <td>1</td>\n",
       "      <td>26.47</td>\n",
       "      <td>4</td>\n",
       "      <td>2</td>\n",
       "      <td>0</td>\n",
       "      <td>0</td>\n",
       "    </tr>\n",
       "    <tr>\n",
       "      <th>219</th>\n",
       "      <td>2019</td>\n",
       "      <td>2019</td>\n",
       "      <td>0</td>\n",
       "      <td>3</td>\n",
       "      <td>40.10</td>\n",
       "      <td>2</td>\n",
       "      <td>0</td>\n",
       "      <td>0</td>\n",
       "      <td>3</td>\n",
       "    </tr>\n",
       "    <tr>\n",
       "      <th>388</th>\n",
       "      <td>2021</td>\n",
       "      <td>2021</td>\n",
       "      <td>0</td>\n",
       "      <td>0</td>\n",
       "      <td>695547.00</td>\n",
       "      <td>7</td>\n",
       "      <td>0</td>\n",
       "      <td>1</td>\n",
       "      <td>0</td>\n",
       "    </tr>\n",
       "  </tbody>\n",
       "</table>\n",
       "</div>"
      ],
      "text/plain": [
       "     YearStart  YearEnd  LocationAbbr  DataValueTypeID  DataValue  QuestionID  \\\n",
       "164       2019     2019             0                1      40.60           5   \n",
       "220       2019     2019             0                3      81.20           1   \n",
       "10        2019     2019             0                1      26.47           4   \n",
       "219       2019     2019             0                3      40.10           2   \n",
       "388       2021     2021             0                0  695547.00           7   \n",
       "\n",
       "     gender  Overall  Age  \n",
       "164       0        0    0  \n",
       "220       1        0    0  \n",
       "10        2        0    0  \n",
       "219       0        0    3  \n",
       "388       0        1    0  "
      ]
     },
     "execution_count": 17,
     "metadata": {},
     "output_type": "execute_result"
    }
   ],
   "source": [
    "print(X_val.shape)\n",
    "X_val.head()"
   ]
  },
  {
   "cell_type": "code",
   "execution_count": 18,
   "id": "bfdb4041-12ab-4f48-a584-67ddfef64160",
   "metadata": {
    "tags": []
   },
   "outputs": [
    {
     "name": "stdout",
     "output_type": "stream",
     "text": [
      "(87,)\n"
     ]
    },
    {
     "data": {
      "text/plain": [
       "369    1\n",
       "204    0\n",
       "232    7\n",
       "520    0\n",
       "513    0\n",
       "Name: Race, dtype: int64"
      ]
     },
     "execution_count": 18,
     "metadata": {},
     "output_type": "execute_result"
    }
   ],
   "source": [
    "print(y_test.shape)\n",
    "y_test.head()"
   ]
  },
  {
   "cell_type": "code",
   "execution_count": 19,
   "id": "782e3269-d7a2-4eb5-ad43-10365933d69c",
   "metadata": {
    "tags": []
   },
   "outputs": [
    {
     "name": "stdout",
     "output_type": "stream",
     "text": [
      "(87,)\n"
     ]
    },
    {
     "data": {
      "text/plain": [
       "164    6\n",
       "220    0\n",
       "10     0\n",
       "219    0\n",
       "388    0\n",
       "Name: Race, dtype: int64"
      ]
     },
     "execution_count": 19,
     "metadata": {},
     "output_type": "execute_result"
    }
   ],
   "source": [
    "print(y_val.shape)\n",
    "y_val.head()"
   ]
  },
  {
   "cell_type": "markdown",
   "id": "ae4673e9-3f80-4a26-b16c-336e3104bb96",
   "metadata": {},
   "source": [
    "Okay, build the first model and save\n",
    "### Building the Model\n",
    "Following the 3 way split example work book"
   ]
  },
  {
   "cell_type": "code",
   "execution_count": 21,
   "id": "f0bc69de-97ad-44d1-97cc-bb95ffaa69aa",
   "metadata": {
    "tags": []
   },
   "outputs": [
    {
     "data": {
      "text/html": [
       "<style>#sk-container-id-1 {color: black;background-color: white;}#sk-container-id-1 pre{padding: 0;}#sk-container-id-1 div.sk-toggleable {background-color: white;}#sk-container-id-1 label.sk-toggleable__label {cursor: pointer;display: block;width: 100%;margin-bottom: 0;padding: 0.3em;box-sizing: border-box;text-align: center;}#sk-container-id-1 label.sk-toggleable__label-arrow:before {content: \"▸\";float: left;margin-right: 0.25em;color: #696969;}#sk-container-id-1 label.sk-toggleable__label-arrow:hover:before {color: black;}#sk-container-id-1 div.sk-estimator:hover label.sk-toggleable__label-arrow:before {color: black;}#sk-container-id-1 div.sk-toggleable__content {max-height: 0;max-width: 0;overflow: hidden;text-align: left;background-color: #f0f8ff;}#sk-container-id-1 div.sk-toggleable__content pre {margin: 0.2em;color: black;border-radius: 0.25em;background-color: #f0f8ff;}#sk-container-id-1 input.sk-toggleable__control:checked~div.sk-toggleable__content {max-height: 200px;max-width: 100%;overflow: auto;}#sk-container-id-1 input.sk-toggleable__control:checked~label.sk-toggleable__label-arrow:before {content: \"▾\";}#sk-container-id-1 div.sk-estimator input.sk-toggleable__control:checked~label.sk-toggleable__label {background-color: #d4ebff;}#sk-container-id-1 div.sk-label input.sk-toggleable__control:checked~label.sk-toggleable__label {background-color: #d4ebff;}#sk-container-id-1 input.sk-hidden--visually {border: 0;clip: rect(1px 1px 1px 1px);clip: rect(1px, 1px, 1px, 1px);height: 1px;margin: -1px;overflow: hidden;padding: 0;position: absolute;width: 1px;}#sk-container-id-1 div.sk-estimator {font-family: monospace;background-color: #f0f8ff;border: 1px dotted black;border-radius: 0.25em;box-sizing: border-box;margin-bottom: 0.5em;}#sk-container-id-1 div.sk-estimator:hover {background-color: #d4ebff;}#sk-container-id-1 div.sk-parallel-item::after {content: \"\";width: 100%;border-bottom: 1px solid gray;flex-grow: 1;}#sk-container-id-1 div.sk-label:hover label.sk-toggleable__label {background-color: #d4ebff;}#sk-container-id-1 div.sk-serial::before {content: \"\";position: absolute;border-left: 1px solid gray;box-sizing: border-box;top: 0;bottom: 0;left: 50%;z-index: 0;}#sk-container-id-1 div.sk-serial {display: flex;flex-direction: column;align-items: center;background-color: white;padding-right: 0.2em;padding-left: 0.2em;position: relative;}#sk-container-id-1 div.sk-item {position: relative;z-index: 1;}#sk-container-id-1 div.sk-parallel {display: flex;align-items: stretch;justify-content: center;background-color: white;position: relative;}#sk-container-id-1 div.sk-item::before, #sk-container-id-1 div.sk-parallel-item::before {content: \"\";position: absolute;border-left: 1px solid gray;box-sizing: border-box;top: 0;bottom: 0;left: 50%;z-index: -1;}#sk-container-id-1 div.sk-parallel-item {display: flex;flex-direction: column;z-index: 1;position: relative;background-color: white;}#sk-container-id-1 div.sk-parallel-item:first-child::after {align-self: flex-end;width: 50%;}#sk-container-id-1 div.sk-parallel-item:last-child::after {align-self: flex-start;width: 50%;}#sk-container-id-1 div.sk-parallel-item:only-child::after {width: 0;}#sk-container-id-1 div.sk-dashed-wrapped {border: 1px dashed gray;margin: 0 0.4em 0.5em 0.4em;box-sizing: border-box;padding-bottom: 0.4em;background-color: white;}#sk-container-id-1 div.sk-label label {font-family: monospace;font-weight: bold;display: inline-block;line-height: 1.2em;}#sk-container-id-1 div.sk-label-container {text-align: center;}#sk-container-id-1 div.sk-container {/* jupyter's `normalize.less` sets `[hidden] { display: none; }` but bootstrap.min.css set `[hidden] { display: none !important; }` so we also need the `!important` here to be able to override the default hidden behavior on the sphinx rendered scikit-learn.org. See: https://github.com/scikit-learn/scikit-learn/issues/21755 */display: inline-block !important;position: relative;}#sk-container-id-1 div.sk-text-repr-fallback {display: none;}</style><div id=\"sk-container-id-1\" class=\"sk-top-container\"><div class=\"sk-text-repr-fallback\"><pre>RandomForestClassifier(random_state=42)</pre><b>In a Jupyter environment, please rerun this cell to show the HTML representation or trust the notebook. <br />On GitHub, the HTML representation is unable to render, please try loading this page with nbviewer.org.</b></div><div class=\"sk-container\" hidden><div class=\"sk-item\"><div class=\"sk-estimator sk-toggleable\"><input class=\"sk-toggleable__control sk-hidden--visually\" id=\"sk-estimator-id-1\" type=\"checkbox\" checked><label for=\"sk-estimator-id-1\" class=\"sk-toggleable__label sk-toggleable__label-arrow\">RandomForestClassifier</label><div class=\"sk-toggleable__content\"><pre>RandomForestClassifier(random_state=42)</pre></div></div></div></div></div>"
      ],
      "text/plain": [
       "RandomForestClassifier(random_state=42)"
      ]
     },
     "execution_count": 21,
     "metadata": {},
     "output_type": "execute_result"
    }
   ],
   "source": [
    "# Train a Random Forest classifier using training set\n",
    "model = RandomForestClassifier(n_estimators=100, random_state=42)\n",
    "model.fit(X_train, y_train)"
   ]
  },
  {
   "cell_type": "code",
   "execution_count": 22,
   "id": "653da89c-4849-4fdd-abd6-cc1a68139183",
   "metadata": {
    "tags": []
   },
   "outputs": [],
   "source": [
    "pred_X_test = model.predict(X_test)"
   ]
  },
  {
   "cell_type": "code",
   "execution_count": 23,
   "id": "ac5edf03-57ac-4354-aedb-f936ddfba9fe",
   "metadata": {
    "tags": []
   },
   "outputs": [
    {
     "data": {
      "text/plain": [
       "0.41379310344827586"
      ]
     },
     "execution_count": 23,
     "metadata": {},
     "output_type": "execute_result"
    }
   ],
   "source": [
    "accuracy_score(y_test,pred_X_test)"
   ]
  },
  {
   "cell_type": "markdown",
   "id": "eab42f3c-7838-4654-8e08-88a48d2ace86",
   "metadata": {},
   "source": [
    "<div class=\"alert alert-info\">I'll save the different models to play with.</div>\n",
    "\n",
    "### Saving the Optimal Model"
   ]
  },
  {
   "cell_type": "code",
   "execution_count": 25,
   "id": "7efb1cbf-28b4-417e-958f-64ac4d281df1",
   "metadata": {
    "tags": []
   },
   "outputs": [
    {
     "data": {
      "text/plain": [
       "['dis1_rf_model.joblib']"
      ]
     },
     "execution_count": 25,
     "metadata": {},
     "output_type": "execute_result"
    }
   ],
   "source": [
    "# Save the model using joblib\n",
    "model_filename = \"dis1_rf_model.joblib\"\n",
    "joblib.dump(model, model_filename)"
   ]
  },
  {
   "cell_type": "markdown",
   "id": "99152f08-0af7-4b18-a2e6-dd34f47de3c3",
   "metadata": {},
   "source": [
    "Try a different predictor"
   ]
  },
  {
   "cell_type": "code",
   "execution_count": 27,
   "id": "4ac848e9-7b8f-4837-9686-7c3ed99aeae3",
   "metadata": {
    "tags": []
   },
   "outputs": [],
   "source": [
    "#gather up names of all the columns\n",
    "df1=disease\n",
    "cols = df1.columns\n",
    "\n",
    "#set the prediction column and the feature columns for KNN\n",
    "#startng with Race snce last week the 'important' feature placed race as #1\n",
    "prediction_col = 'gender'\n",
    "feature_cols = [c for c in cols if c != prediction_col]\n",
    "X = df1[feature_cols]\n",
    "y = df1[prediction_col]"
   ]
  },
  {
   "cell_type": "code",
   "execution_count": 28,
   "id": "f4abea9f-bb3d-49b5-9afb-9040d22ab85c",
   "metadata": {
    "tags": []
   },
   "outputs": [],
   "source": [
    "# Train-Validation-Test Split - First split\n",
    "X_train, X_temp, y_train, y_temp = train_test_split(X, y, random_state=42, test_size=0.3, stratify=y)"
   ]
  },
  {
   "cell_type": "code",
   "execution_count": 29,
   "id": "222c822c-d04f-45aa-a104-0aff48c9af1a",
   "metadata": {
    "tags": []
   },
   "outputs": [
    {
     "name": "stdout",
     "output_type": "stream",
     "text": [
      "<class 'pandas.core.frame.DataFrame'>\n",
      "Index: 174 entries, 471 to 25\n",
      "Data columns (total 9 columns):\n",
      " #   Column           Non-Null Count  Dtype  \n",
      "---  ------           --------------  -----  \n",
      " 0   YearStart        174 non-null    int64  \n",
      " 1   YearEnd          174 non-null    int64  \n",
      " 2   LocationAbbr     174 non-null    int64  \n",
      " 3   DataValueTypeID  174 non-null    int64  \n",
      " 4   DataValue        174 non-null    float64\n",
      " 5   QuestionID       174 non-null    int64  \n",
      " 6   Race             174 non-null    int64  \n",
      " 7   Overall          174 non-null    int64  \n",
      " 8   Age              174 non-null    int64  \n",
      "dtypes: float64(1), int64(8)\n",
      "memory usage: 13.6 KB\n"
     ]
    }
   ],
   "source": [
    "X_temp.info()"
   ]
  },
  {
   "cell_type": "code",
   "execution_count": 30,
   "id": "7b3564e3-24ed-42b2-b6b8-ea75e2a800a1",
   "metadata": {
    "tags": []
   },
   "outputs": [
    {
     "data": {
      "text/html": [
       "<div>\n",
       "<style scoped>\n",
       "    .dataframe tbody tr th:only-of-type {\n",
       "        vertical-align: middle;\n",
       "    }\n",
       "\n",
       "    .dataframe tbody tr th {\n",
       "        vertical-align: top;\n",
       "    }\n",
       "\n",
       "    .dataframe thead th {\n",
       "        text-align: right;\n",
       "    }\n",
       "</style>\n",
       "<table border=\"1\" class=\"dataframe\">\n",
       "  <thead>\n",
       "    <tr style=\"text-align: right;\">\n",
       "      <th></th>\n",
       "      <th>YearStart</th>\n",
       "      <th>YearEnd</th>\n",
       "      <th>LocationAbbr</th>\n",
       "      <th>DataValueTypeID</th>\n",
       "      <th>DataValue</th>\n",
       "      <th>QuestionID</th>\n",
       "      <th>Race</th>\n",
       "      <th>Overall</th>\n",
       "      <th>Age</th>\n",
       "    </tr>\n",
       "  </thead>\n",
       "  <tbody>\n",
       "    <tr>\n",
       "      <th>471</th>\n",
       "      <td>2021</td>\n",
       "      <td>2021</td>\n",
       "      <td>0</td>\n",
       "      <td>1</td>\n",
       "      <td>234.1</td>\n",
       "      <td>7</td>\n",
       "      <td>0</td>\n",
       "      <td>0</td>\n",
       "      <td>0</td>\n",
       "    </tr>\n",
       "    <tr>\n",
       "      <th>403</th>\n",
       "      <td>2021</td>\n",
       "      <td>2021</td>\n",
       "      <td>0</td>\n",
       "      <td>1</td>\n",
       "      <td>54.6</td>\n",
       "      <td>5</td>\n",
       "      <td>2</td>\n",
       "      <td>0</td>\n",
       "      <td>0</td>\n",
       "    </tr>\n",
       "    <tr>\n",
       "      <th>131</th>\n",
       "      <td>2019</td>\n",
       "      <td>2019</td>\n",
       "      <td>0</td>\n",
       "      <td>3</td>\n",
       "      <td>31.8</td>\n",
       "      <td>3</td>\n",
       "      <td>0</td>\n",
       "      <td>0</td>\n",
       "      <td>0</td>\n",
       "    </tr>\n",
       "    <tr>\n",
       "      <th>58</th>\n",
       "      <td>2019</td>\n",
       "      <td>2019</td>\n",
       "      <td>0</td>\n",
       "      <td>4</td>\n",
       "      <td>28.9</td>\n",
       "      <td>3</td>\n",
       "      <td>0</td>\n",
       "      <td>1</td>\n",
       "      <td>0</td>\n",
       "    </tr>\n",
       "    <tr>\n",
       "      <th>530</th>\n",
       "      <td>2021</td>\n",
       "      <td>2021</td>\n",
       "      <td>0</td>\n",
       "      <td>0</td>\n",
       "      <td>20389.0</td>\n",
       "      <td>5</td>\n",
       "      <td>0</td>\n",
       "      <td>0</td>\n",
       "      <td>3</td>\n",
       "    </tr>\n",
       "  </tbody>\n",
       "</table>\n",
       "</div>"
      ],
      "text/plain": [
       "     YearStart  YearEnd  LocationAbbr  DataValueTypeID  DataValue  QuestionID  \\\n",
       "471       2021     2021             0                1      234.1           7   \n",
       "403       2021     2021             0                1       54.6           5   \n",
       "131       2019     2019             0                3       31.8           3   \n",
       "58        2019     2019             0                4       28.9           3   \n",
       "530       2021     2021             0                0    20389.0           5   \n",
       "\n",
       "     Race  Overall  Age  \n",
       "471     0        0    0  \n",
       "403     2        0    0  \n",
       "131     0        0    0  \n",
       "58      0        1    0  \n",
       "530     0        0    3  "
      ]
     },
     "execution_count": 30,
     "metadata": {},
     "output_type": "execute_result"
    }
   ],
   "source": [
    "X_temp.head()"
   ]
  },
  {
   "cell_type": "code",
   "execution_count": 31,
   "id": "1b674f30-6740-468d-8b30-37d5f5ada34a",
   "metadata": {
    "tags": []
   },
   "outputs": [],
   "source": [
    "# Train-Validation-Test Split - Second split\n",
    "X_test, X_val, y_test, y_val = train_test_split(X_temp, y_temp, random_state=42, test_size=0.5, stratify=y_temp)"
   ]
  },
  {
   "cell_type": "code",
   "execution_count": 32,
   "id": "fc9f8336-76b2-4e4b-bf8a-1f8a88171d56",
   "metadata": {
    "tags": []
   },
   "outputs": [
    {
     "name": "stdout",
     "output_type": "stream",
     "text": [
      "(87, 9)\n"
     ]
    },
    {
     "data": {
      "text/html": [
       "<div>\n",
       "<style scoped>\n",
       "    .dataframe tbody tr th:only-of-type {\n",
       "        vertical-align: middle;\n",
       "    }\n",
       "\n",
       "    .dataframe tbody tr th {\n",
       "        vertical-align: top;\n",
       "    }\n",
       "\n",
       "    .dataframe thead th {\n",
       "        text-align: right;\n",
       "    }\n",
       "</style>\n",
       "<table border=\"1\" class=\"dataframe\">\n",
       "  <thead>\n",
       "    <tr style=\"text-align: right;\">\n",
       "      <th></th>\n",
       "      <th>YearStart</th>\n",
       "      <th>YearEnd</th>\n",
       "      <th>LocationAbbr</th>\n",
       "      <th>DataValueTypeID</th>\n",
       "      <th>DataValue</th>\n",
       "      <th>QuestionID</th>\n",
       "      <th>Race</th>\n",
       "      <th>Overall</th>\n",
       "      <th>Age</th>\n",
       "    </tr>\n",
       "  </thead>\n",
       "  <tbody>\n",
       "    <tr>\n",
       "      <th>29</th>\n",
       "      <td>2019</td>\n",
       "      <td>2019</td>\n",
       "      <td>0</td>\n",
       "      <td>2</td>\n",
       "      <td>17.8</td>\n",
       "      <td>5</td>\n",
       "      <td>5</td>\n",
       "      <td>0</td>\n",
       "      <td>0</td>\n",
       "    </tr>\n",
       "    <tr>\n",
       "      <th>70</th>\n",
       "      <td>2019</td>\n",
       "      <td>2019</td>\n",
       "      <td>0</td>\n",
       "      <td>0</td>\n",
       "      <td>12956.0</td>\n",
       "      <td>4</td>\n",
       "      <td>8</td>\n",
       "      <td>0</td>\n",
       "      <td>0</td>\n",
       "    </tr>\n",
       "    <tr>\n",
       "      <th>367</th>\n",
       "      <td>2021</td>\n",
       "      <td>2021</td>\n",
       "      <td>0</td>\n",
       "      <td>4</td>\n",
       "      <td>57.3</td>\n",
       "      <td>1</td>\n",
       "      <td>0</td>\n",
       "      <td>0</td>\n",
       "      <td>0</td>\n",
       "    </tr>\n",
       "    <tr>\n",
       "      <th>287</th>\n",
       "      <td>2020</td>\n",
       "      <td>2020</td>\n",
       "      <td>0</td>\n",
       "      <td>2</td>\n",
       "      <td>173.5</td>\n",
       "      <td>7</td>\n",
       "      <td>6</td>\n",
       "      <td>0</td>\n",
       "      <td>0</td>\n",
       "    </tr>\n",
       "    <tr>\n",
       "      <th>72</th>\n",
       "      <td>2019</td>\n",
       "      <td>2019</td>\n",
       "      <td>0</td>\n",
       "      <td>1</td>\n",
       "      <td>200.8</td>\n",
       "      <td>7</td>\n",
       "      <td>0</td>\n",
       "      <td>1</td>\n",
       "      <td>0</td>\n",
       "    </tr>\n",
       "  </tbody>\n",
       "</table>\n",
       "</div>"
      ],
      "text/plain": [
       "     YearStart  YearEnd  LocationAbbr  DataValueTypeID  DataValue  QuestionID  \\\n",
       "29        2019     2019             0                2       17.8           5   \n",
       "70        2019     2019             0                0    12956.0           4   \n",
       "367       2021     2021             0                4       57.3           1   \n",
       "287       2020     2020             0                2      173.5           7   \n",
       "72        2019     2019             0                1      200.8           7   \n",
       "\n",
       "     Race  Overall  Age  \n",
       "29      5        0    0  \n",
       "70      8        0    0  \n",
       "367     0        0    0  \n",
       "287     6        0    0  \n",
       "72      0        1    0  "
      ]
     },
     "execution_count": 32,
     "metadata": {},
     "output_type": "execute_result"
    }
   ],
   "source": [
    "print(X_test.shape)\n",
    "X_test.head()"
   ]
  },
  {
   "cell_type": "code",
   "execution_count": 33,
   "id": "8d498b2a-0100-4515-a286-d1b7a5d8151c",
   "metadata": {
    "tags": []
   },
   "outputs": [
    {
     "name": "stdout",
     "output_type": "stream",
     "text": [
      "(87, 9)\n"
     ]
    },
    {
     "data": {
      "text/html": [
       "<div>\n",
       "<style scoped>\n",
       "    .dataframe tbody tr th:only-of-type {\n",
       "        vertical-align: middle;\n",
       "    }\n",
       "\n",
       "    .dataframe tbody tr th {\n",
       "        vertical-align: top;\n",
       "    }\n",
       "\n",
       "    .dataframe thead th {\n",
       "        text-align: right;\n",
       "    }\n",
       "</style>\n",
       "<table border=\"1\" class=\"dataframe\">\n",
       "  <thead>\n",
       "    <tr style=\"text-align: right;\">\n",
       "      <th></th>\n",
       "      <th>YearStart</th>\n",
       "      <th>YearEnd</th>\n",
       "      <th>LocationAbbr</th>\n",
       "      <th>DataValueTypeID</th>\n",
       "      <th>DataValue</th>\n",
       "      <th>QuestionID</th>\n",
       "      <th>Race</th>\n",
       "      <th>Overall</th>\n",
       "      <th>Age</th>\n",
       "    </tr>\n",
       "  </thead>\n",
       "  <tbody>\n",
       "    <tr>\n",
       "      <th>378</th>\n",
       "      <td>2021</td>\n",
       "      <td>2021</td>\n",
       "      <td>0</td>\n",
       "      <td>0</td>\n",
       "      <td>380946.00</td>\n",
       "      <td>4</td>\n",
       "      <td>0</td>\n",
       "      <td>0</td>\n",
       "      <td>0</td>\n",
       "    </tr>\n",
       "    <tr>\n",
       "      <th>260</th>\n",
       "      <td>2020</td>\n",
       "      <td>2020</td>\n",
       "      <td>0</td>\n",
       "      <td>1</td>\n",
       "      <td>1.60</td>\n",
       "      <td>5</td>\n",
       "      <td>0</td>\n",
       "      <td>0</td>\n",
       "      <td>2</td>\n",
       "    </tr>\n",
       "    <tr>\n",
       "      <th>438</th>\n",
       "      <td>2021</td>\n",
       "      <td>2021</td>\n",
       "      <td>0</td>\n",
       "      <td>2</td>\n",
       "      <td>155.20</td>\n",
       "      <td>7</td>\n",
       "      <td>1</td>\n",
       "      <td>0</td>\n",
       "      <td>0</td>\n",
       "    </tr>\n",
       "    <tr>\n",
       "      <th>250</th>\n",
       "      <td>2020</td>\n",
       "      <td>2020</td>\n",
       "      <td>0</td>\n",
       "      <td>0</td>\n",
       "      <td>46470.00</td>\n",
       "      <td>6</td>\n",
       "      <td>2</td>\n",
       "      <td>0</td>\n",
       "      <td>0</td>\n",
       "    </tr>\n",
       "    <tr>\n",
       "      <th>318</th>\n",
       "      <td>2020</td>\n",
       "      <td>2020</td>\n",
       "      <td>0</td>\n",
       "      <td>2</td>\n",
       "      <td>29.91</td>\n",
       "      <td>4</td>\n",
       "      <td>4</td>\n",
       "      <td>0</td>\n",
       "      <td>0</td>\n",
       "    </tr>\n",
       "  </tbody>\n",
       "</table>\n",
       "</div>"
      ],
      "text/plain": [
       "     YearStart  YearEnd  LocationAbbr  DataValueTypeID  DataValue  QuestionID  \\\n",
       "378       2021     2021             0                0  380946.00           4   \n",
       "260       2020     2020             0                1       1.60           5   \n",
       "438       2021     2021             0                2     155.20           7   \n",
       "250       2020     2020             0                0   46470.00           6   \n",
       "318       2020     2020             0                2      29.91           4   \n",
       "\n",
       "     Race  Overall  Age  \n",
       "378     0        0    0  \n",
       "260     0        0    2  \n",
       "438     1        0    0  \n",
       "250     2        0    0  \n",
       "318     4        0    0  "
      ]
     },
     "execution_count": 33,
     "metadata": {},
     "output_type": "execute_result"
    }
   ],
   "source": [
    "print(X_val.shape)\n",
    "X_val.head()"
   ]
  },
  {
   "cell_type": "code",
   "execution_count": 34,
   "id": "07030421-1c69-420f-9dd5-9ca21508f9e2",
   "metadata": {
    "tags": []
   },
   "outputs": [
    {
     "name": "stdout",
     "output_type": "stream",
     "text": [
      "(87,)\n"
     ]
    },
    {
     "data": {
      "text/plain": [
       "29     0\n",
       "70     0\n",
       "367    2\n",
       "287    0\n",
       "72     0\n",
       "Name: gender, dtype: int64"
      ]
     },
     "execution_count": 34,
     "metadata": {},
     "output_type": "execute_result"
    }
   ],
   "source": [
    "print(y_test.shape)\n",
    "y_test.head()"
   ]
  },
  {
   "cell_type": "code",
   "execution_count": 35,
   "id": "24677f2d-8707-4007-bafb-0404a6d85c76",
   "metadata": {
    "tags": []
   },
   "outputs": [
    {
     "name": "stdout",
     "output_type": "stream",
     "text": [
      "(87,)\n"
     ]
    },
    {
     "data": {
      "text/plain": [
       "378    1\n",
       "260    0\n",
       "438    0\n",
       "250    0\n",
       "318    0\n",
       "Name: gender, dtype: int64"
      ]
     },
     "execution_count": 35,
     "metadata": {},
     "output_type": "execute_result"
    }
   ],
   "source": [
    "print(y_val.shape)\n",
    "y_val.head()"
   ]
  },
  {
   "cell_type": "code",
   "execution_count": null,
   "id": "760f128f-bdc5-48ad-a45c-5cb912cf9c09",
   "metadata": {
    "tags": []
   },
   "outputs": [],
   "source": [
    "# Train a Random Forest classifier using training set\n",
    "model = RandomForestClassifier(n_estimators=100, random_state=42)\n",
    "model.fit(X_train, y_train)"
   ]
  },
  {
   "cell_type": "code",
   "execution_count": null,
   "id": "bc331209-eddf-4ed3-89c8-3d6c3771f61b",
   "metadata": {
    "tags": []
   },
   "outputs": [],
   "source": [
    "pred_X_test = model.predict(X_test)"
   ]
  },
  {
   "cell_type": "code",
   "execution_count": null,
   "id": "24a37934-a106-4725-b2ae-e66fff884e15",
   "metadata": {
    "tags": []
   },
   "outputs": [],
   "source": [
    "accuracy_score(y_test,pred_X_test)"
   ]
  },
  {
   "cell_type": "code",
   "execution_count": null,
   "id": "92002579-3f05-4d3f-af4c-ddad5f22f56d",
   "metadata": {
    "tags": []
   },
   "outputs": [],
   "source": [
    "# Save the model using joblib\n",
    "model_filename = \"dis2_rf_model.joblib\"\n",
    "joblib.dump(model, model_filename)"
   ]
  },
  {
   "cell_type": "markdown",
   "id": "89f91976-8de4-4b14-9495-2b9dd040dacf",
   "metadata": {},
   "source": [
    "Second model saved\n",
    "Tru a final predictor"
   ]
  },
  {
   "cell_type": "code",
   "execution_count": null,
   "id": "1ce47c6e-6be7-4ddd-8f53-d2249b11b616",
   "metadata": {
    "tags": []
   },
   "outputs": [],
   "source": [
    "#gather up names of all the columns\n",
    "df2=disease\n",
    "cols = df2.columns\n",
    "\n",
    "#set the prediction column and the feature columns for KNN\n",
    "#startng with Race snce last week the 'important' feature placed race as #1\n",
    "prediction_col = 'Age'\n",
    "feature_cols = [c for c in cols if c != prediction_col]\n",
    "X = df2[feature_cols]\n",
    "y = df2[prediction_col]"
   ]
  },
  {
   "cell_type": "code",
   "execution_count": null,
   "id": "38225dfe-b5d2-498b-8168-ae063319228d",
   "metadata": {},
   "outputs": [],
   "source": [
    "#Train-Validation-Test Split - First split\n",
    "X_train, X_temp, y_train, y_temp = train_test_split(X, y, random_state=42, test_size=0.3, stratify=y)"
   ]
  },
  {
   "cell_type": "code",
   "execution_count": null,
   "id": "f41c8b2f-66eb-4d5f-b057-58a77487865b",
   "metadata": {},
   "outputs": [],
   "source": [
    "X_temp.head()"
   ]
  },
  {
   "cell_type": "code",
   "execution_count": null,
   "id": "4e274880-820b-47ed-896c-1c56468488c0",
   "metadata": {},
   "outputs": [],
   "source": [
    "# Train-Validation-Test Split - Second split\n",
    "X_test, X_val, y_test, y_val = train_test_split(X_temp, y_temp, random_state=42, test_size=0.5, stratify=y_temp)"
   ]
  },
  {
   "cell_type": "code",
   "execution_count": null,
   "id": "931c070d-3739-4585-bbd8-52f445523a1c",
   "metadata": {},
   "outputs": [],
   "source": [
    "print(X_test.shape)\n",
    "X_test.head()"
   ]
  },
  {
   "cell_type": "code",
   "execution_count": null,
   "id": "a5972d25-c9ea-4237-bdb1-e96db4a6cf30",
   "metadata": {},
   "outputs": [],
   "source": [
    "print(X_val.shape)\n",
    "X_val.head()"
   ]
  },
  {
   "cell_type": "code",
   "execution_count": null,
   "id": "47e1921f-2d79-43fd-ba25-144d900db389",
   "metadata": {},
   "outputs": [],
   "source": [
    "print(y_test.shape)\n",
    "y_test.head()"
   ]
  },
  {
   "cell_type": "code",
   "execution_count": null,
   "id": "b331d65e-cc8f-4278-822b-292848e9e60d",
   "metadata": {},
   "outputs": [],
   "source": [
    "print(y_val.shape)\n",
    "y_val.head()"
   ]
  },
  {
   "cell_type": "code",
   "execution_count": null,
   "id": "d5d8e6b4-554b-4785-b86b-f1b77bff66ab",
   "metadata": {},
   "outputs": [],
   "source": [
    "# Train a Random Forest classifier using training set\n",
    "model = RandomForestClassifier(n_estimators=100, random_state=42)\n",
    "model.fit(X_train, y_train)"
   ]
  },
  {
   "cell_type": "code",
   "execution_count": null,
   "id": "f2375d98-e354-481c-810d-c7946ac4b615",
   "metadata": {},
   "outputs": [],
   "source": [
    "pred_X_test = model.predict(X_test)"
   ]
  },
  {
   "cell_type": "code",
   "execution_count": null,
   "id": "b195cc2b-4798-4f8a-9cc0-3de27f4d10aa",
   "metadata": {},
   "outputs": [],
   "source": [
    "accuracy_score(y_test,pred_X_test)"
   ]
  },
  {
   "cell_type": "code",
   "execution_count": null,
   "id": "4298da22-c6d7-4af6-8d4b-e33ca2cf176e",
   "metadata": {},
   "outputs": [],
   "source": [
    "# Save the model using joblib\n",
    "model_filename = \"dis3_rf_model.joblib\"\n",
    "joblib.dump(model, model_filename)"
   ]
  },
  {
   "cell_type": "markdown",
   "id": "fde22fe9-0c40-420a-adef-732357add626",
   "metadata": {},
   "source": [
    "Initial conclusions:\n",
    "<p> I am shamelessly using the code from this week's sample 3 way split.  \n",
    "<br>  Age seems to be the best model so far."
   ]
  },
  {
   "cell_type": "code",
   "execution_count": null,
   "id": "de365912-52ce-4ce4-ab56-7187d94d6d6b",
   "metadata": {},
   "outputs": [],
   "source": []
  }
 ],
 "metadata": {
  "kernelspec": {
   "display_name": "Python 3 (ipykernel)",
   "language": "python",
   "name": "python3"
  },
  "language_info": {
   "codemirror_mode": {
    "name": "ipython",
    "version": 3
   },
   "file_extension": ".py",
   "mimetype": "text/x-python",
   "name": "python",
   "nbconvert_exporter": "python",
   "pygments_lexer": "ipython3",
   "version": "3.11.5"
  }
 },
 "nbformat": 4,
 "nbformat_minor": 5
}
