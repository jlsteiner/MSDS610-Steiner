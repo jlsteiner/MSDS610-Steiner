{
 "cells": [
  {
   "cell_type": "markdown",
   "id": "65e1dc8c-db99-40e7-af8b-9b2b8c31d10e",
   "metadata": {},
   "source": [
    "Part 2 of the assigment.  Load the model and run."
   ]
  },
  {
   "cell_type": "code",
   "execution_count": 2,
   "id": "dc558e32-aa4e-40a0-a24a-40c53b8ababa",
   "metadata": {
    "tags": []
   },
   "outputs": [],
   "source": [
    "import joblib\n",
    "import pandas as pd\n",
    "import numpy as np\n",
    "import seaborn as sns\n",
    "\n",
    "from sklearn.model_selection import train_test_split\n",
    "\n",
    "from sklearn.tree import DecisionTreeClassifier, plot_tree\n",
    "from sklearn.ensemble import RandomForestClassifier\n",
    "from sklearn.metrics import accuracy_score\n",
    "import matplotlib.pyplot as plt\n",
    "#import the sql package\n",
    "from sqlalchemy import create_engine\n",
    "import psycopg2\n",
    "from sqlalchemy import create_engine, text"
   ]
  },
  {
   "cell_type": "code",
   "execution_count": 3,
   "id": "acb7bce7-d55c-4a21-a611-9323304c237c",
   "metadata": {
    "tags": []
   },
   "outputs": [],
   "source": [
    "#set up variable for the db\n",
    "host = r'127.0.0.1' # denotes that the db in a local installation\n",
    "db = r'MSDS610' # db for this class\n",
    "user = r'postgres' # using the postgres user because I'm too lazy to create a new one\n",
    "pw = r'BrightBlessings1!' # this is the password established during installation\n",
    "port = r'5432' # default port estabalished during install\n",
    "schema = r'cleaned' # schema where I last saved the data to"
   ]
  },
  {
   "cell_type": "code",
   "execution_count": 4,
   "id": "3a9a0c0a-2f23-4178-9891-4d493ea72fca",
   "metadata": {
    "tags": []
   },
   "outputs": [],
   "source": [
    "#open the connection\n",
    "db_conn = create_engine(\"postgresql://{}:{}@{}:{}/{}\".format(user, pw, host, port, db))"
   ]
  },
  {
   "cell_type": "code",
   "execution_count": 5,
   "id": "0f16b3f3-f8f9-4d3c-8693-739c08409b49",
   "metadata": {
    "tags": []
   },
   "outputs": [],
   "source": [
    "#read from the table created\n",
    "\n",
    "table_name = r'tree'\n",
    "schema = r'cleaned' # schema were the data was loaded last week.\n",
    "\n",
    "#set df equal to disease, so we can use disease again\n",
    "disease = pd.read_sql_table(table_name, db_conn, schema)\n",
    "df=disease\n",
    "df1=disease\n",
    "df2=disease"
   ]
  },
  {
   "cell_type": "markdown",
   "id": "99e5a6a2-f389-4ec9-a439-c38f63781aac",
   "metadata": {},
   "source": [
    "Load the first model and run it"
   ]
  },
  {
   "cell_type": "code",
   "execution_count": 7,
   "id": "1be8e567-9aa2-43c8-836d-bc96904c6e25",
   "metadata": {
    "tags": []
   },
   "outputs": [
    {
     "name": "stdout",
     "output_type": "stream",
     "text": [
      "Model loaded successfully\n",
      "Model accuracy: 0.41\n"
     ]
    }
   ],
   "source": [
    " # Load the saved model\n",
    "loaded_model = joblib.load('dis1_rf_model.joblib')\n",
    "print(\"Model loaded successfully\")\n",
    "\n",
    "#gather up names of all the columns\n",
    "cols = df.columns\n",
    "\n",
    "#set the prediction column and the feature columns for KNN\n",
    "#startng with Race snce last week the 'important' feature placed race as #1\n",
    "prediction_col = 'Race'\n",
    "feature_cols = [c for c in cols if c != prediction_col]\n",
    "X = df[feature_cols]\n",
    "y = df[prediction_col]\n",
    "X_train, X_temp, y_train, y_temp = train_test_split(X, y, random_state=42, test_size=0.3, stratify=y)\n",
    "# Train-Validation-Test Split - Second split\n",
    "X_test, X_val, y_test, y_val = train_test_split(X_temp, y_temp, random_state=42, test_size=0.5, stratify=y_temp)\n",
    "    # Make predictions using the loaded model\n",
    "predictions = loaded_model.predict(X_test)\n",
    "\n",
    "    # Evaluate the model (optional)\n",
    "accuracy = accuracy_score(y_test, predictions)\n",
    "print(f\"Model accuracy: {accuracy:.2f}\")"
   ]
  },
  {
   "cell_type": "markdown",
   "id": "1cc0c417-7f52-46e1-abc5-c8f495c89764",
   "metadata": {},
   "source": [
    "Well, those results did not improve.  \n",
    "\n",
    "Next, save the prediction results.\n",
    "I did this as csv and then saved it to postgres.  I'm sure I could have skipped the csv."
   ]
  },
  {
   "cell_type": "code",
   "execution_count": 9,
   "id": "659c5fcb-368b-45e0-972b-29ac55588d55",
   "metadata": {
    "tags": []
   },
   "outputs": [],
   "source": [
    "dfa = pd.DataFrame(predictions)\n",
    "dfa.index = X_test.index # its important for comparison\n",
    "dfa.columns = [\"prediction\"]\n",
    "dfa.to_csv(\"prediction_results.csv\")"
   ]
  },
  {
   "cell_type": "code",
   "execution_count": 10,
   "id": "47b03f66-4e7c-4435-bab5-1b31feea795d",
   "metadata": {
    "tags": []
   },
   "outputs": [
    {
     "data": {
      "text/plain": [
       "87"
      ]
     },
     "execution_count": 10,
     "metadata": {},
     "output_type": "execute_result"
    }
   ],
   "source": [
    "table_name = r'dis1_pred'\n",
    "schema = r'analytics' # schema we created this week.\n",
    "\n",
    "dfa.to_sql(table_name, con=db_conn, if_exists='replace', index=False, schema=schema, chunksize=1000, method='multi')"
   ]
  },
  {
   "cell_type": "markdown",
   "id": "1ac4601a-208c-47ab-899a-2a76831c725a",
   "metadata": {},
   "source": [
    "load the second model"
   ]
  },
  {
   "cell_type": "code",
   "execution_count": 12,
   "id": "a439e69e-622b-4ba9-bff2-bb32e75a3cca",
   "metadata": {
    "tags": []
   },
   "outputs": [
    {
     "name": "stdout",
     "output_type": "stream",
     "text": [
      "Model loaded successfully\n",
      "Model accuracy: 0.84\n"
     ]
    }
   ],
   "source": [
    "loaded_model = joblib.load('dis2_rf_model.joblib')\n",
    "print(\"Model loaded successfully\")\n",
    "\n",
    "#gather up names of all the columns\n",
    "cols = df1.columns\n",
    "\n",
    "#set the prediction column and the feature columns for KNN\n",
    "#startng with Race snce last week the 'important' feature placed race as #1\n",
    "prediction1_col = 'gender'\n",
    "feature1_cols = [c for c in cols if c != prediction1_col]\n",
    "X = df1[feature1_cols]\n",
    "y = df1[prediction1_col]\n",
    "X_train, X_temp, y_train, y_temp = train_test_split(X, y, random_state=42, test_size=0.3, stratify=y)\n",
    "# Train-Validation-Test Split - Second split\n",
    "X_test, X_val, y_test, y_val = train_test_split(X_temp, y_temp, random_state=42, test_size=0.5, stratify=y_temp)\n",
    "    # Make predictions using the loaded model\n",
    "predictions1 = loaded_model.predict(X_test)\n",
    "\n",
    "    # Evaluate the model (optional)\n",
    "accuracy = accuracy_score(y_test, predictions1)\n",
    "print(f\"Model accuracy: {accuracy:.2f}\")"
   ]
  },
  {
   "cell_type": "markdown",
   "id": "61d34603-bb46-4afe-b1e8-3a005d4eab9a",
   "metadata": {},
   "source": [
    "Using gender improves the accuracy.\n",
    "save the predictions out to csv then to the db"
   ]
  },
  {
   "cell_type": "code",
   "execution_count": 14,
   "id": "b3c6872c-0375-4231-be4f-183ef63e0ee6",
   "metadata": {
    "tags": []
   },
   "outputs": [],
   "source": [
    "dfb = pd.DataFrame(predictions1)\n",
    "dfb.index = X_test.index # its important for comparison\n",
    "dfb.columns = [\"prediction1\"]\n",
    "dfb.to_csv(\"prediction1_results.csv\")"
   ]
  },
  {
   "cell_type": "code",
   "execution_count": 15,
   "id": "0d0ff194-c6a8-4641-9eef-2ec5cd5ee25e",
   "metadata": {
    "tags": []
   },
   "outputs": [
    {
     "data": {
      "text/plain": [
       "87"
      ]
     },
     "execution_count": 15,
     "metadata": {},
     "output_type": "execute_result"
    }
   ],
   "source": [
    "table_name = r'dis2_pred'\n",
    "schema = r'analytics' # schema we created this week.\n",
    "\n",
    "dfb.to_sql(table_name, con=db_conn, if_exists='replace', index=False, schema=schema, chunksize=1000, method='multi')"
   ]
  },
  {
   "cell_type": "markdown",
   "id": "ce26b339-dad9-4f0e-afec-dffef5520fc2",
   "metadata": {},
   "source": [
    "Load and run the last model"
   ]
  },
  {
   "cell_type": "code",
   "execution_count": 17,
   "id": "a3abf5c7-b33f-40ab-86c3-cb678b2625ba",
   "metadata": {
    "tags": []
   },
   "outputs": [
    {
     "name": "stdout",
     "output_type": "stream",
     "text": [
      "Model loaded successfully\n",
      "Model accuracy: 0.94\n"
     ]
    }
   ],
   "source": [
    "loaded_model = joblib.load('dis3_rf_model.joblib')\n",
    "print(\"Model loaded successfully\")\n",
    "\n",
    "#gather up names of all the columns\n",
    "cols = df2.columns\n",
    "\n",
    "#set the prediction column and the feature columns for KNN\n",
    "#startng with Race snce last week the 'important' feature placed race as #1\n",
    "prediction2_col = 'Age'\n",
    "feature2_cols = [c for c in cols if c != prediction2_col]\n",
    "X = df2[feature2_cols]\n",
    "y = df2[prediction2_col]\n",
    "X_train, X_temp, y_train, y_temp = train_test_split(X, y, random_state=42, test_size=0.3, stratify=y)\n",
    "# Train-Validation-Test Split - Second split\n",
    "X_test, X_val, y_test, y_val = train_test_split(X_temp, y_temp, random_state=42, test_size=0.5, stratify=y_temp)\n",
    "    # Make predictions using the loaded model\n",
    "predictions2 = loaded_model.predict(X_test)\n",
    "\n",
    "    # Evaluate the model (optional)\n",
    "accuracy = accuracy_score(y_test, predictions2)\n",
    "print(f\"Model accuracy: {accuracy:.2f}\")"
   ]
  },
  {
   "cell_type": "markdown",
   "id": "0bec0279-7196-4440-8cda-53e861107886",
   "metadata": {},
   "source": [
    "Of the 3 features chosen, this one performed the best\n",
    "save the prediction to csv and then to the db."
   ]
  },
  {
   "cell_type": "code",
   "execution_count": 19,
   "id": "14f155c4-2ae7-4132-95a3-2184abeb2613",
   "metadata": {
    "tags": []
   },
   "outputs": [],
   "source": [
    "dfc = pd.DataFrame(predictions2)\n",
    "dfc.index = X_test.index # its important for comparison\n",
    "dfc.columns = [\"prediction2\"]\n",
    "dfc.to_csv(\"prediction2_results.csv\")"
   ]
  },
  {
   "cell_type": "code",
   "execution_count": 20,
   "id": "46f209db-98ae-4694-b275-722abe5fb5b1",
   "metadata": {
    "tags": []
   },
   "outputs": [
    {
     "data": {
      "text/plain": [
       "87"
      ]
     },
     "execution_count": 20,
     "metadata": {},
     "output_type": "execute_result"
    }
   ],
   "source": [
    "table_name = r'dis3_pred'\n",
    "schema = r'analytics' # schema we created this week.\n",
    "\n",
    "dfc.to_sql(table_name, con=db_conn, if_exists='replace', index=False, schema=schema, chunksize=1000, method='multi')"
   ]
  },
  {
   "cell_type": "markdown",
   "id": "858f1dfd-51f1-4fb3-8a74-fa32d639e8d8",
   "metadata": {
    "tags": []
   },
   "source": [
    "This part was challenging in getting the model to work in a separate notebook and then saving the prediction.  "
   ]
  },
  {
   "cell_type": "markdown",
   "id": "6f0569d5-e303-4919-b980-df521e7e48cf",
   "metadata": {},
   "source": [
    "References used:\n",
    "<p> https://www.analyticsvidhya.com/blog/2023/02/how-to-save-and-load-machine-learning-models-in-python-using-joblib-library/\n",
    "<p>https://stackoverflow.com/questions/34864695/saving-prediction-results-to-csv\n",
    "<p>https://plainenglish.io/blog/importing-csv-data-into-postgresql-using-python"
   ]
  },
  {
   "cell_type": "code",
   "execution_count": null,
   "id": "bd4fd64d-976f-4c38-9b9e-7988c018663a",
   "metadata": {},
   "outputs": [],
   "source": []
  }
 ],
 "metadata": {
  "kernelspec": {
   "display_name": "Python 3 (ipykernel)",
   "language": "python",
   "name": "python3"
  },
  "language_info": {
   "codemirror_mode": {
    "name": "ipython",
    "version": 3
   },
   "file_extension": ".py",
   "mimetype": "text/x-python",
   "name": "python",
   "nbconvert_exporter": "python",
   "pygments_lexer": "ipython3",
   "version": "3.11.5"
  }
 },
 "nbformat": 4,
 "nbformat_minor": 5
}
